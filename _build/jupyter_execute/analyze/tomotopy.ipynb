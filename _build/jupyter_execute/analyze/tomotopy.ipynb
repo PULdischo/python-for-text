{
 "cells": [
  {
   "cell_type": "code",
   "execution_count": 1,
   "id": "103a9a9f",
   "metadata": {},
   "outputs": [],
   "source": [
    "import tomotopy as tp"
   ]
  },
  {
   "cell_type": "code",
   "execution_count": 2,
   "id": "4696943b",
   "metadata": {},
   "outputs": [],
   "source": [
    "# code from: https://bab2min.github.io/tomotopy/v0.12.6/en/\n",
    "\n",
    "mdl = tp.LDAModel(k=20)\n",
    "for line in open('117s_text_clean.txt'):\n",
    "    mdl.add_doc(line.strip().split())"
   ]
  },
  {
   "cell_type": "code",
   "execution_count": 3,
   "id": "c9143671",
   "metadata": {},
   "outputs": [
    {
     "name": "stdout",
     "output_type": "stream",
     "text": [
      "Iteration: 0\tLog-likelihood: -10.05421677250764\n",
      "Iteration: 10\tLog-likelihood: -9.862432476492838\n",
      "Iteration: 20\tLog-likelihood: -9.745830552909956\n",
      "Iteration: 30\tLog-likelihood: -9.65856823235337\n",
      "Iteration: 40\tLog-likelihood: -9.588710280399116\n",
      "Iteration: 50\tLog-likelihood: -9.527321154925156\n",
      "Iteration: 60\tLog-likelihood: -9.465435059237135\n",
      "Iteration: 70\tLog-likelihood: -9.40646835751527\n",
      "Iteration: 80\tLog-likelihood: -9.336361233327676\n",
      "Iteration: 90\tLog-likelihood: -9.276902929296716\n"
     ]
    }
   ],
   "source": [
    "for i in range(0, 100, 10):\n",
    "    mdl.train(10)\n",
    "    print('Iteration: {}\\tLog-likelihood: {}'.format(i, mdl.ll_per_word))"
   ]
  },
  {
   "cell_type": "code",
   "execution_count": 4,
   "id": "590d274a",
   "metadata": {},
   "outputs": [
    {
     "name": "stdout",
     "output_type": "stream",
     "text": [
      "Top 10 words of topic #0\n",
      "[('the', 0.06307022273540497), ('of', 0.045347683131694794), ('another', 0.006891417317092419), ('associated', 0.006591796875), ('for', 0.006307157687842846), ('Effective', 0.0062622143886983395), ('human', 0.005468220449984074), ('and', 0.005453239660710096), ('evidence', 0.005228524561971426), ('rural', 0.005168600473552942)]\n",
      "Top 10 words of topic #1\n",
      "[('the', 0.057241037487983704), ('of', 0.042180757969617844), ('and', 0.017209017649292946), ('for', 0.01374346949160099), ('an', 0.013594945892691612), ('that', 0.01112945657223463), ('to', 0.010050185956060886), ('be', 0.00908973440527916), ('in', 0.008099578320980072), ('used', 0.007287649903446436)]\n",
      "Top 10 words of topic #2\n",
      "[('the', 0.05348736792802811), ('of', 0.03231249004602432), ('entity', 0.009298556484282017), ('30,', 0.008473561145365238), ('sex', 0.00754544185474515), ('period', 0.007425129879266024), ('certain', 0.0072016934864223), ('Ms.', 0.006445447914302349), ('may', 0.006136074662208557), ('pregnant', 0.005912638269364834)]\n",
      "Top 10 words of topic #3\n",
      "[('of', 0.05540682002902031), ('the', 0.04342547431588173), ('and', 0.015783993527293205), ('or', 0.010192697867751122), ('as', 0.008628934621810913), ('general', 0.00817893072962761), ('section', 0.008088929578661919), ('mental', 0.007211422547698021), ('that', 0.006862669717520475), ('contract', 0.006435166113078594)]\n",
      "Top 10 words of topic #4\n",
      "[('the', 0.06452766805887222), ('of', 0.052504152059555054), ('and', 0.04527589678764343), ('a', 0.03913639485836029), ('in', 0.028928792104125023), ('to', 0.028661515563726425), ('or', 0.023559678345918655), ('by', 0.021020550280809402), ('under', 0.020057568326592445), ('shall', 0.016759848222136497)]\n",
      "Top 10 words of topic #5\n",
      "[('the', 0.05495033413171768), ('of', 0.04822394624352455), ('to', 0.017033040523529053), ('a', 0.015658831223845482), ('or', 0.0130731500685215), ('described', 0.012340841814875603), ('that', 0.01197016704827547), ('in', 0.010686367750167847), ('under', 0.010098712518811226), ('by', 0.00824533961713314)]\n",
      "Top 10 words of topic #6\n",
      "[('of', 0.06556212902069092), ('the', 0.051865436136722565), ('in', 0.01601792499423027), ('who', 0.013516703620553017), ('and', 0.0134166544303298), ('a', 0.011975950561463833), ('for', 0.009624801576137543), ('section', 0.007973995059728622), ('noncitizen', 0.007443736307322979), ('this', 0.007383706979453564)]\n",
      "Top 10 words of topic #7\n",
      "[('the', 0.06445622444152832), ('of', 0.05008038133382797), ('to', 0.03742234408855438), ('and', 0.03592526167631149), ('in', 0.02601187862455845), ('or', 0.019322985783219337), ('by', 0.01803223229944706), ('for', 0.01628083549439907), ('a', 0.01607450656592846), ('which', 0.01504766009747982)]\n",
      "Top 10 words of topic #8\n",
      "[('the', 0.07083139568567276), ('and', 0.05364222079515457), ('of', 0.036684706807136536), ('to', 0.02581212669610977), ('or', 0.02460234798491001), ('a', 0.018213680014014244), ('for', 0.014172498136758804), ('this', 0.012458213604986668), ('with', 0.010429902002215385), ('under', 0.010399013757705688)]\n",
      "Top 10 words of topic #9\n",
      "[('the', 0.06395219266414642), ('of', 0.05411490052938461), ('to', 0.02233288437128067), ('in', 0.012961262837052345), ('and', 0.012359771877527237), ('United', 0.008673212490975857), ('for', 0.008595600724220276), ('have', 0.007800079882144928), ('by', 0.007392618339508772), ('individual', 0.007004559505730867)]\n",
      "Top 10 words of topic #10\n",
      "[('the', 0.07177738100290298), ('of', 0.048452045768499374), ('and', 0.03525595739483833), ('in', 0.034883446991443634), ('to', 0.03316377103328705), ('for', 0.023774441331624985), ('on', 0.014186101965606213), ('or', 0.01378297246992588), ('by', 0.011986753903329372), ('a', 0.011456052772700787)]\n",
      "Top 10 words of topic #11\n",
      "[('the', 0.07442807406187057), ('of', 0.04529302194714546), ('services', 0.008130093105137348), ('proposed', 0.007041567470878363), ('(A)', 0.0064973048865795135), ('Services', 0.0056809112429618835), ('population', 0.005493820644915104), ('communication', 0.005408779717981815), ('to', 0.0053917714394629), ('facilities', 0.005034599453210831)]\n",
      "Top 10 words of topic #12\n",
      "[('the', 0.061174891889095306), ('of', 0.041731465607881546), ('to', 0.0254380963742733), ('and', 0.01915157027542591), ('for', 0.018099289387464523), ('in', 0.014385757967829704), ('as', 0.012518809176981449), ('that', 0.010665438137948513), ('by', 0.009816824458539486), ('a', 0.009490957483649254)]\n",
      "Top 10 words of topic #13\n",
      "[('the', 0.0627785176038742), ('of', 0.0522175058722496), ('to', 0.016478197649121284), ('and', 0.014233778230845928), ('with', 0.014176647178828716), ('or', 0.01263411995023489), ('in', 0.011287468485534191), ('an', 0.010422347113490105), ('a', 0.0100305937230587), ('is', 0.00903488788753748)]\n",
      "Top 10 words of topic #14\n",
      "[('the', 0.1186995729804039), ('of', 0.03092825599014759), ('and', 0.02130836807191372), ('for', 0.018869522958993912), ('in', 0.013476966880261898), ('to', 0.012600788846611977), ('or', 0.011715578846633434), ('entity', 0.01133620273321867), ('that', 0.01070390921086073), ('is', 0.01064971275627613)]\n",
      "Top 10 words of topic #15\n",
      "[('the', 0.0778316855430603), ('of', 0.03953858092427254), ('and', 0.020940905436873436), ('in', 0.02029252238571644), ('a', 0.01839231140911579), ('or', 0.01805849000811577), ('to', 0.017114805057644844), ('for', 0.015150397084653378), ('section', 0.01393066719174385), ('that', 0.013924247585237026)]\n",
      "Top 10 words of topic #16\n",
      "[('of', 0.0688043162226677), ('the', 0.05857653543353081), ('and', 0.02617332525551319), ('be', 0.014280558563768864), ('for', 0.013072986155748367), ('in', 0.01219475083053112), ('an', 0.011984339915215969), ('to', 0.011188440024852753), ('or', 0.010785914957523346), ('that', 0.00946856290102005)]\n",
      "Top 10 words of topic #17\n",
      "[('the', 0.04935149475932121), ('and', 0.04063732549548149), ('of', 0.0394735112786293), ('to', 0.02603195048868656), ('in', 0.01945304125547409), ('a', 0.018164189532399178), ('such', 0.017596710473299026), ('as', 0.016307860612869263), ('on', 0.012777946889400482), ('be', 0.011517951264977455)]\n",
      "Top 10 words of topic #18\n",
      "[('the', 0.06406103074550629), ('of', 0.048175763338804245), ('in', 0.0094539113342762), ('shall', 0.009079144336283207), ('a', 0.008776913397014141), ('and', 0.00860766414552927), ('for', 0.00807573739439249), ('respect', 0.00699979392811656), ('is', 0.006419510114938021), ('such', 0.006395332049578428)]\n",
      "Top 10 words of topic #19\n",
      "[('to', 0.06799673289060593), ('and', 0.05864132568240166), ('the', 0.04688410833477974), ('of', 0.04077098146080971), ('in', 0.03194126486778259), ('or', 0.02998959645628929), ('a', 0.026278281584382057), ('by', 0.02050197683274746), ('under', 0.01770353876054287), ('not', 0.015421347692608833)]\n"
     ]
    }
   ],
   "source": [
    "for k in range(mdl.k):\n",
    "    print('Top 10 words of topic #{}'.format(k))\n",
    "    print(mdl.get_topic_words(k, top_n=10))"
   ]
  },
  {
   "cell_type": "code",
   "execution_count": 5,
   "id": "859e1806",
   "metadata": {},
   "outputs": [
    {
     "name": "stdout",
     "output_type": "stream",
     "text": [
      "<Basic Info>\n",
      "| LDAModel (current version: 0.12.7)\n",
      "| 1 docs, 2767674 words\n",
      "| Total Vocabs: 132815, Used Vocabs: 132815\n",
      "| Entropy of words: 7.53844\n",
      "| Entropy of term-weighted words: 7.53844\n",
      "| Removed Vocabs: <NA>\n",
      "|\n",
      "<Training Info>\n",
      "| Iterations: 100, Burn-in steps: 0\n",
      "| Optimization Interval: 10\n",
      "| Log-likelihood per word: -9.27690\n",
      "|\n",
      "<Initial Parameters>\n",
      "| tw: TermWeight.ONE\n",
      "| min_cf: 0 (minimum collection frequency of words)\n",
      "| min_df: 0 (minimum document frequency of words)\n",
      "| rm_top: 0 (the number of top words to be removed)\n",
      "| k: 20 (the number of topics between 1 ~ 32767)\n",
      "| alpha: [0.1] (hyperparameter of Dirichlet distribution for document-topic, given as a single `float` in case of symmetric prior and as a list with length `k` of `float` in case of asymmetric prior.)\n",
      "| eta: 0.01 (hyperparameter of Dirichlet distribution for topic-word)\n",
      "| seed: 278566001 (random seed)\n",
      "| trained in version 0.12.7\n",
      "|\n",
      "<Parameters>\n",
      "| alpha (Dirichlet prior on the per-document topic distributions)\n",
      "|  [2.6117458 3.641133  2.3200448 3.2898266 7.955775  3.8950756 3.5916371\n",
      "|   6.6661797 6.2987833 3.7341406 6.253243  2.3633785 5.021447  4.275345\n",
      "|   3.9668012 5.2518024 3.8468177 6.690546  3.1154792 9.821996 ]\n",
      "| eta (Dirichlet prior on the per-topic word distribution)\n",
      "|  0.01\n",
      "|\n",
      "<Topics>\n",
      "| #0 (65423) : the of another associated for\n",
      "| #1 (99666) : the of and for an\n",
      "| #2 (56854) : the of entity 30, sex\n",
      "| #3 (87560) : of the and or as\n",
      "| #4 (253090) : the of and a in\n",
      "| #5 (109281) : the of to a or\n",
      "| #6 (98623) : of the in who and\n",
      "| #7 (207077) : the of to and in\n",
      "| #8 (192922) : the and of to or\n",
      "| #9 (101749) : the of to in and\n",
      "| #10 (194639) : the of and in to\n",
      "| #11 (57467) : the of services proposed (A)\n",
      "| #12 (145971) : the of to and for\n",
      "| #13 (121198) : the of to and with\n",
      "| #14 (109380) : the of and for in\n",
      "| #15 (154444) : the of and in a\n",
      "| #16 (107982) : of the and be for\n",
      "| #17 (206609) : the and of to in\n",
      "| #18 (81390) : the of in shall a\n",
      "| #19 (316349) : to and the of in\n",
      "|\n",
      "\n"
     ]
    }
   ],
   "source": [
    "mdl.summary()"
   ]
  },
  {
   "cell_type": "code",
   "execution_count": 6,
   "id": "d6b25ce1",
   "metadata": {},
   "outputs": [
    {
     "name": "stderr",
     "output_type": "stream",
     "text": [
      "/Users/caladof/anaconda3/lib/python3.11/site-packages/spacy/util.py:910: UserWarning: [W095] Model 'en_core_web_sm' (3.5.0) was trained with spaCy v3.5.0 and may not be 100% compatible with the current version (3.7.2). If you see errors or degraded performance, download a newer compatible model or retrain your custom model with the current spaCy version. For more details and available updates, run: python -m spacy validate\n",
      "  warnings.warn(warn_msg)\n"
     ]
    }
   ],
   "source": [
    "import spacy\n",
    "from spacy_cleaner import processing, Cleaner\n",
    "\n",
    "model = spacy.load(\"en_core_web_sm\")"
   ]
  },
  {
   "cell_type": "code",
   "execution_count": 7,
   "id": "88967ff6",
   "metadata": {},
   "outputs": [],
   "source": [
    "cleaner = Cleaner(model, processing.remove_stopword_token)"
   ]
  },
  {
   "cell_type": "code",
   "execution_count": 8,
   "id": "e9052cbe",
   "metadata": {},
   "outputs": [],
   "source": [
    "with open('117s_text_clean.txt', 'r') as f:\n",
    "    text = f.read()"
   ]
  },
  {
   "cell_type": "code",
   "execution_count": 9,
   "id": "05e83073",
   "metadata": {},
   "outputs": [
    {
     "name": "stderr",
     "output_type": "stream",
     "text": [
      "\r",
      "Cleaning Progress:   0%|                                                      | 0/20706436 [00:00<?, ?it/s]"
     ]
    },
    {
     "name": "stderr",
     "output_type": "stream",
     "text": [
      "\r",
      "Cleaning Progress:   0%|                                        | 257/20706436 [00:00<3:08:33, 1830.29it/s]"
     ]
    },
    {
     "name": "stderr",
     "output_type": "stream",
     "text": [
      "\r",
      "Cleaning Progress:   0%|                                        | 769/20706436 [00:00<1:56:53, 2952.19it/s]"
     ]
    },
    {
     "name": "stderr",
     "output_type": "stream",
     "text": [
      "\r",
      "Cleaning Progress:   0%|                                       | 1281/20706436 [00:00<1:43:44, 3326.36it/s]"
     ]
    },
    {
     "name": "stderr",
     "output_type": "stream",
     "text": [
      "\r",
      "Cleaning Progress:   0%|                                       | 1793/20706436 [00:00<1:38:07, 3516.86it/s]"
     ]
    },
    {
     "name": "stderr",
     "output_type": "stream",
     "text": [
      "\r",
      "Cleaning Progress:   0%|                                       | 2305/20706436 [00:00<1:35:37, 3608.29it/s]"
     ]
    },
    {
     "name": "stderr",
     "output_type": "stream",
     "text": [
      "\r",
      "Cleaning Progress:   0%|                                       | 2817/20706436 [00:00<1:34:24, 3654.78it/s]"
     ]
    },
    {
     "name": "stderr",
     "output_type": "stream",
     "text": [
      "\r",
      "Cleaning Progress:   0%|                                       | 3183/20706436 [00:00<1:35:45, 3603.41it/s]"
     ]
    },
    {
     "name": "stderr",
     "output_type": "stream",
     "text": [
      "\r",
      "Cleaning Progress:   0%|                                       | 3585/20706436 [00:01<1:44:23, 3305.45it/s]"
     ]
    },
    {
     "name": "stderr",
     "output_type": "stream",
     "text": [
      "\r",
      "Cleaning Progress:   0%|                                       | 4097/20706436 [00:01<1:41:23, 3403.07it/s]"
     ]
    },
    {
     "name": "stderr",
     "output_type": "stream",
     "text": [
      "\r",
      "Cleaning Progress:   0%|                                       | 4609/20706436 [00:01<1:38:04, 3517.91it/s]"
     ]
    },
    {
     "name": "stderr",
     "output_type": "stream",
     "text": [
      "\r",
      "Cleaning Progress:   0%|                                       | 5121/20706436 [00:01<1:35:45, 3603.13it/s]"
     ]
    },
    {
     "name": "stderr",
     "output_type": "stream",
     "text": [
      "\r",
      "Cleaning Progress:   0%|                                       | 5633/20706436 [00:01<1:34:29, 3651.57it/s]"
     ]
    },
    {
     "name": "stderr",
     "output_type": "stream",
     "text": [
      "\r",
      "Cleaning Progress:   0%|                                       | 6145/20706436 [00:01<1:33:26, 3692.31it/s]"
     ]
    },
    {
     "name": "stderr",
     "output_type": "stream",
     "text": [
      "\r",
      "Cleaning Progress:   0%|                                       | 6657/20706436 [00:01<1:33:09, 3703.66it/s]"
     ]
    },
    {
     "name": "stderr",
     "output_type": "stream",
     "text": [
      "\r",
      "Cleaning Progress:   0%|                                       | 7169/20706436 [00:02<1:32:07, 3744.83it/s]"
     ]
    },
    {
     "name": "stderr",
     "output_type": "stream",
     "text": [
      "\r",
      "Cleaning Progress:   0%|                                       | 7681/20706436 [00:02<1:31:33, 3767.61it/s]"
     ]
    },
    {
     "name": "stderr",
     "output_type": "stream",
     "text": [
      "\r",
      "Cleaning Progress:   0%|                                       | 8193/20706436 [00:02<1:31:35, 3766.47it/s]"
     ]
    },
    {
     "name": "stderr",
     "output_type": "stream",
     "text": [
      "\r",
      "Cleaning Progress:   0%|                                       | 8705/20706436 [00:02<1:31:21, 3776.19it/s]"
     ]
    },
    {
     "name": "stderr",
     "output_type": "stream",
     "text": [
      "\r",
      "Cleaning Progress:   0%|                                       | 9217/20706436 [00:02<1:31:15, 3780.11it/s]"
     ]
    },
    {
     "name": "stderr",
     "output_type": "stream",
     "text": [
      "\r",
      "Cleaning Progress:   0%|                                       | 9729/20706436 [00:02<1:31:12, 3781.64it/s]"
     ]
    },
    {
     "name": "stderr",
     "output_type": "stream",
     "text": [
      "\r",
      "Cleaning Progress:   0%|                                      | 10241/20706436 [00:02<1:30:47, 3799.47it/s]"
     ]
    },
    {
     "name": "stderr",
     "output_type": "stream",
     "text": [
      "\r",
      "Cleaning Progress:   0%|                                      | 10753/20706436 [00:02<1:31:26, 3772.25it/s]"
     ]
    },
    {
     "name": "stderr",
     "output_type": "stream",
     "text": [
      "\r",
      "Cleaning Progress:   0%|                                      | 11265/20706436 [00:03<1:31:02, 3788.55it/s]"
     ]
    },
    {
     "name": "stderr",
     "output_type": "stream",
     "text": [
      "\r",
      "Cleaning Progress:   0%|                                      | 11777/20706436 [00:03<1:30:45, 3800.30it/s]"
     ]
    },
    {
     "name": "stderr",
     "output_type": "stream",
     "text": [
      "\r",
      "Cleaning Progress:   0%|                                      | 12289/20706436 [00:03<1:30:50, 3797.02it/s]"
     ]
    },
    {
     "name": "stderr",
     "output_type": "stream",
     "text": [
      "\r",
      "Cleaning Progress:   0%|                                      | 12801/20706436 [00:03<1:30:34, 3808.10it/s]"
     ]
    },
    {
     "name": "stderr",
     "output_type": "stream",
     "text": [
      "\r",
      "Cleaning Progress:   0%|                                      | 13313/20706436 [00:03<1:30:41, 3802.83it/s]"
     ]
    },
    {
     "name": "stderr",
     "output_type": "stream",
     "text": [
      "\r",
      "Cleaning Progress:   0%|                                      | 13825/20706436 [00:03<1:30:48, 3797.79it/s]"
     ]
    },
    {
     "name": "stderr",
     "output_type": "stream",
     "text": [
      "\r",
      "Cleaning Progress:   0%|                                      | 14337/20706436 [00:03<1:30:34, 3807.50it/s]"
     ]
    },
    {
     "name": "stderr",
     "output_type": "stream",
     "text": [
      "\r",
      "Cleaning Progress:   0%|                                      | 14849/20706436 [00:04<1:32:02, 3746.98it/s]"
     ]
    },
    {
     "name": "stderr",
     "output_type": "stream",
     "text": [
      "\r",
      "Cleaning Progress:   0%|                                      | 15361/20706436 [00:04<1:32:32, 3726.20it/s]"
     ]
    },
    {
     "name": "stderr",
     "output_type": "stream",
     "text": [
      "\r",
      "Cleaning Progress:   0%|                                      | 15873/20706436 [00:04<1:32:17, 3736.58it/s]"
     ]
    },
    {
     "name": "stderr",
     "output_type": "stream",
     "text": [
      "\r",
      "Cleaning Progress:   0%|                                      | 16385/20706436 [00:04<1:32:01, 3747.26it/s]"
     ]
    },
    {
     "name": "stderr",
     "output_type": "stream",
     "text": [
      "\r",
      "Cleaning Progress:   0%|                                      | 16897/20706436 [00:04<1:31:45, 3757.83it/s]"
     ]
    },
    {
     "name": "stderr",
     "output_type": "stream",
     "text": [
      "\r",
      "Cleaning Progress:   0%|                                      | 17409/20706436 [00:04<1:31:15, 3778.42it/s]"
     ]
    },
    {
     "name": "stderr",
     "output_type": "stream",
     "text": [
      "\r",
      "Cleaning Progress:   0%|                                      | 17921/20706436 [00:04<1:31:04, 3786.08it/s]"
     ]
    },
    {
     "name": "stderr",
     "output_type": "stream",
     "text": [
      "\r",
      "Cleaning Progress:   0%|                                      | 18433/20706436 [00:05<1:31:29, 3768.86it/s]"
     ]
    },
    {
     "name": "stderr",
     "output_type": "stream",
     "text": [
      "\r",
      "Cleaning Progress:   0%|                                      | 18945/20706436 [00:05<1:31:25, 3771.35it/s]"
     ]
    },
    {
     "name": "stderr",
     "output_type": "stream",
     "text": [
      "\r",
      "Cleaning Progress:   0%|                                      | 19457/20706436 [00:05<1:31:04, 3786.04it/s]"
     ]
    },
    {
     "name": "stderr",
     "output_type": "stream",
     "text": [
      "\r",
      "Cleaning Progress:   0%|                                      | 19969/20706436 [00:05<1:30:50, 3795.35it/s]"
     ]
    },
    {
     "name": "stderr",
     "output_type": "stream",
     "text": [
      "\r",
      "Cleaning Progress:   0%|                                      | 20481/20706436 [00:05<1:30:38, 3803.26it/s]"
     ]
    },
    {
     "name": "stderr",
     "output_type": "stream",
     "text": [
      "\r",
      "Cleaning Progress:   0%|                                      | 20993/20706436 [00:05<1:30:33, 3807.21it/s]"
     ]
    },
    {
     "name": "stderr",
     "output_type": "stream",
     "text": [
      "\r",
      "Cleaning Progress:   0%|                                      | 21505/20706436 [00:05<1:30:09, 3823.61it/s]"
     ]
    },
    {
     "name": "stderr",
     "output_type": "stream",
     "text": [
      "\r",
      "Cleaning Progress:   0%|                                      | 22017/20706436 [00:05<1:30:31, 3808.01it/s]"
     ]
    },
    {
     "name": "stderr",
     "output_type": "stream",
     "text": [
      "\r",
      "Cleaning Progress:   0%|                                      | 22529/20706436 [00:06<1:31:17, 3775.88it/s]"
     ]
    },
    {
     "name": "stderr",
     "output_type": "stream",
     "text": [
      "\r",
      "Cleaning Progress:   0%|                                      | 23041/20706436 [00:06<1:31:32, 3765.93it/s]"
     ]
    },
    {
     "name": "stderr",
     "output_type": "stream",
     "text": [
      "\r",
      "Cleaning Progress:   0%|                                      | 23553/20706436 [00:06<1:31:14, 3778.36it/s]"
     ]
    },
    {
     "name": "stderr",
     "output_type": "stream",
     "text": [
      "\r",
      "Cleaning Progress:   0%|                                      | 24065/20706436 [00:06<1:30:51, 3794.11it/s]"
     ]
    },
    {
     "name": "stderr",
     "output_type": "stream",
     "text": [
      "\r",
      "Cleaning Progress:   0%|                                      | 24577/20706436 [00:06<1:30:41, 3800.52it/s]"
     ]
    },
    {
     "name": "stderr",
     "output_type": "stream",
     "text": [
      "\r",
      "Cleaning Progress:   0%|                                      | 25089/20706436 [00:06<1:30:24, 3812.92it/s]"
     ]
    },
    {
     "name": "stderr",
     "output_type": "stream",
     "text": [
      "\r",
      "Cleaning Progress:   0%|                                      | 25471/20706436 [00:06<1:30:43, 3799.33it/s]"
     ]
    },
    {
     "name": "stderr",
     "output_type": "stream",
     "text": [
      "\r",
      "Cleaning Progress:   0%|                                      | 25857/20706436 [00:06<1:38:23, 3503.36it/s]"
     ]
    },
    {
     "name": "stderr",
     "output_type": "stream",
     "text": [
      "\r",
      "Cleaning Progress:   0%|                                      | 26369/20706436 [00:07<1:37:13, 3544.85it/s]"
     ]
    },
    {
     "name": "stderr",
     "output_type": "stream",
     "text": [
      "\r",
      "Cleaning Progress:   0%|                                      | 26881/20706436 [00:07<1:39:33, 3461.80it/s]"
     ]
    },
    {
     "name": "stderr",
     "output_type": "stream",
     "text": [
      "\r",
      "Cleaning Progress:   0%|                                      | 27393/20706436 [00:07<1:37:36, 3530.74it/s]"
     ]
    },
    {
     "name": "stderr",
     "output_type": "stream",
     "text": [
      "\r",
      "Cleaning Progress:   0%|                                      | 27905/20706436 [00:07<1:35:35, 3605.11it/s]"
     ]
    },
    {
     "name": "stderr",
     "output_type": "stream",
     "text": [
      "\r",
      "Cleaning Progress:   0%|                                      | 28417/20706436 [00:07<1:34:12, 3657.95it/s]"
     ]
    },
    {
     "name": "stderr",
     "output_type": "stream",
     "text": [
      "\r",
      "Cleaning Progress:   0%|                                      | 28929/20706436 [00:07<1:33:02, 3703.89it/s]"
     ]
    },
    {
     "name": "stderr",
     "output_type": "stream",
     "text": [
      "\r",
      "Cleaning Progress:   0%|                                      | 29441/20706436 [00:07<1:32:16, 3734.66it/s]"
     ]
    },
    {
     "name": "stderr",
     "output_type": "stream",
     "text": [
      "\r",
      "Cleaning Progress:   0%|                                      | 29953/20706436 [00:08<1:32:02, 3743.82it/s]"
     ]
    },
    {
     "name": "stderr",
     "output_type": "stream",
     "text": [
      "\r",
      "Cleaning Progress:   0%|                                      | 30465/20706436 [00:08<1:32:36, 3720.91it/s]"
     ]
    },
    {
     "name": "stderr",
     "output_type": "stream",
     "text": [
      "\r",
      "Cleaning Progress:   0%|                                      | 30977/20706436 [00:08<1:31:46, 3754.52it/s]"
     ]
    },
    {
     "name": "stderr",
     "output_type": "stream",
     "text": [
      "\r",
      "Cleaning Progress:   0%|                                      | 31489/20706436 [00:08<1:31:13, 3777.02it/s]"
     ]
    },
    {
     "name": "stderr",
     "output_type": "stream",
     "text": [
      "\r",
      "Cleaning Progress:   0%|                                      | 32001/20706436 [00:08<1:30:58, 3787.89it/s]"
     ]
    },
    {
     "name": "stderr",
     "output_type": "stream",
     "text": [
      "\r",
      "Cleaning Progress:   0%|                                      | 32513/20706436 [00:08<1:30:28, 3808.56it/s]"
     ]
    },
    {
     "name": "stderr",
     "output_type": "stream",
     "text": [
      "\r",
      "Cleaning Progress:   0%|                                      | 33025/20706436 [00:08<1:30:18, 3815.04it/s]"
     ]
    },
    {
     "name": "stderr",
     "output_type": "stream",
     "text": [
      "\r",
      "Cleaning Progress:   0%|                                      | 33537/20706436 [00:09<1:30:05, 3824.44it/s]"
     ]
    },
    {
     "name": "stderr",
     "output_type": "stream",
     "text": [
      "\r",
      "Cleaning Progress:   0%|                                      | 34049/20706436 [00:09<1:31:05, 3782.67it/s]"
     ]
    },
    {
     "name": "stderr",
     "output_type": "stream",
     "text": [
      "\r",
      "Cleaning Progress:   0%|                                      | 34561/20706436 [00:09<1:30:57, 3787.97it/s]"
     ]
    },
    {
     "name": "stderr",
     "output_type": "stream",
     "text": [
      "\r",
      "Cleaning Progress:   0%|                                      | 35073/20706436 [00:09<1:30:25, 3809.94it/s]"
     ]
    },
    {
     "name": "stderr",
     "output_type": "stream",
     "text": [
      "\r",
      "Cleaning Progress:   0%|                                      | 35585/20706436 [00:09<1:30:24, 3810.59it/s]"
     ]
    },
    {
     "name": "stderr",
     "output_type": "stream",
     "text": [
      "\r",
      "Cleaning Progress:   0%|                                      | 36097/20706436 [00:09<1:30:34, 3803.24it/s]"
     ]
    },
    {
     "name": "stderr",
     "output_type": "stream",
     "text": [
      "\r",
      "Cleaning Progress:   0%|                                      | 36609/20706436 [00:09<1:30:30, 3806.59it/s]"
     ]
    },
    {
     "name": "stderr",
     "output_type": "stream",
     "text": [
      "\r",
      "Cleaning Progress:   0%|                                      | 37121/20706436 [00:09<1:30:16, 3815.93it/s]"
     ]
    },
    {
     "name": "stderr",
     "output_type": "stream",
     "text": [
      "\r",
      "Cleaning Progress:   0%|                                      | 37633/20706436 [00:10<1:29:59, 3827.76it/s]"
     ]
    },
    {
     "name": "stderr",
     "output_type": "stream",
     "text": [
      "\r",
      "Cleaning Progress:   0%|                                      | 38145/20706436 [00:10<1:32:26, 3726.37it/s]"
     ]
    },
    {
     "name": "stderr",
     "output_type": "stream",
     "text": [
      "\r",
      "Cleaning Progress:   0%|                                      | 38657/20706436 [00:10<1:34:56, 3628.14it/s]"
     ]
    },
    {
     "name": "stderr",
     "output_type": "stream",
     "text": [
      "\r",
      "Cleaning Progress:   0%|                                      | 39169/20706436 [00:10<1:33:31, 3683.25it/s]"
     ]
    },
    {
     "name": "stderr",
     "output_type": "stream",
     "text": [
      "\r",
      "Cleaning Progress:   0%|                                      | 39681/20706436 [00:10<1:32:57, 3705.17it/s]"
     ]
    },
    {
     "name": "stderr",
     "output_type": "stream",
     "text": [
      "\r",
      "Cleaning Progress:   0%|                                      | 40193/20706436 [00:10<1:32:13, 3734.61it/s]"
     ]
    },
    {
     "name": "stderr",
     "output_type": "stream",
     "text": [
      "\r",
      "Cleaning Progress:   0%|                                      | 40705/20706436 [00:10<1:31:22, 3769.33it/s]"
     ]
    },
    {
     "name": "stderr",
     "output_type": "stream",
     "text": [
      "\r",
      "Cleaning Progress:   0%|                                      | 41217/20706436 [00:11<1:31:19, 3771.60it/s]"
     ]
    },
    {
     "name": "stderr",
     "output_type": "stream",
     "text": [
      "\r",
      "Cleaning Progress:   0%|                                      | 41729/20706436 [00:11<1:31:01, 3783.56it/s]"
     ]
    },
    {
     "name": "stderr",
     "output_type": "stream",
     "text": [
      "\r",
      "Cleaning Progress:   0%|                                      | 42241/20706436 [00:11<1:31:31, 3762.95it/s]"
     ]
    },
    {
     "name": "stderr",
     "output_type": "stream",
     "text": [
      "\r",
      "Cleaning Progress:   0%|                                      | 42753/20706436 [00:11<1:30:57, 3786.38it/s]"
     ]
    },
    {
     "name": "stderr",
     "output_type": "stream",
     "text": [
      "\r",
      "Cleaning Progress:   0%|                                      | 43265/20706436 [00:11<1:30:53, 3789.24it/s]"
     ]
    },
    {
     "name": "stderr",
     "output_type": "stream",
     "text": [
      "\r",
      "Cleaning Progress:   0%|                                      | 43777/20706436 [00:11<1:30:46, 3793.46it/s]"
     ]
    },
    {
     "name": "stderr",
     "output_type": "stream",
     "text": [
      "\r",
      "Cleaning Progress:   0%|                                      | 44289/20706436 [00:11<1:30:29, 3805.87it/s]"
     ]
    },
    {
     "name": "stderr",
     "output_type": "stream",
     "text": [
      "\r",
      "Cleaning Progress:   0%|                                      | 44670/20706436 [00:11<1:30:43, 3796.00it/s]"
     ]
    },
    {
     "name": "stderr",
     "output_type": "stream",
     "text": [
      "\r",
      "Cleaning Progress:   0%|                                      | 45057/20706436 [00:12<1:38:19, 3502.06it/s]"
     ]
    },
    {
     "name": "stderr",
     "output_type": "stream",
     "text": [
      "\r",
      "Cleaning Progress:   0%|                                      | 45569/20706436 [00:12<1:35:59, 3587.03it/s]"
     ]
    },
    {
     "name": "stderr",
     "output_type": "stream",
     "text": [
      "\r",
      "Cleaning Progress:   0%|                                      | 46081/20706436 [00:12<1:35:14, 3615.30it/s]"
     ]
    },
    {
     "name": "stderr",
     "output_type": "stream",
     "text": [
      "\r",
      "Cleaning Progress:   0%|                                      | 46593/20706436 [00:12<1:33:47, 3671.18it/s]"
     ]
    },
    {
     "name": "stderr",
     "output_type": "stream",
     "text": [
      "\r",
      "Cleaning Progress:   0%|                                      | 47105/20706436 [00:12<1:32:41, 3714.75it/s]"
     ]
    },
    {
     "name": "stderr",
     "output_type": "stream",
     "text": [
      "\r",
      "Cleaning Progress:   0%|                                      | 47617/20706436 [00:12<1:31:49, 3749.42it/s]"
     ]
    },
    {
     "name": "stderr",
     "output_type": "stream",
     "text": [
      "\r",
      "Cleaning Progress:   0%|                                      | 48129/20706436 [00:12<1:31:28, 3763.82it/s]"
     ]
    },
    {
     "name": "stderr",
     "output_type": "stream",
     "text": [
      "\r",
      "Cleaning Progress:   0%|                                      | 48641/20706436 [00:13<1:31:12, 3774.71it/s]"
     ]
    },
    {
     "name": "stderr",
     "output_type": "stream",
     "text": [
      "\r",
      "Cleaning Progress:   0%|                                      | 49153/20706436 [00:13<1:31:49, 3749.21it/s]"
     ]
    },
    {
     "name": "stderr",
     "output_type": "stream",
     "text": [
      "\r",
      "Cleaning Progress:   0%|                                      | 49665/20706436 [00:13<1:32:58, 3702.79it/s]"
     ]
    },
    {
     "name": "stderr",
     "output_type": "stream",
     "text": [
      "\r",
      "Cleaning Progress:   0%|                                      | 50177/20706436 [00:13<1:32:53, 3706.48it/s]"
     ]
    },
    {
     "name": "stderr",
     "output_type": "stream",
     "text": [
      "\r",
      "Cleaning Progress:   0%|                                      | 50689/20706436 [00:13<1:32:12, 3733.34it/s]"
     ]
    },
    {
     "name": "stderr",
     "output_type": "stream",
     "text": [
      "\r",
      "Cleaning Progress:   0%|                                      | 51201/20706436 [00:13<1:31:38, 3756.43it/s]"
     ]
    },
    {
     "name": "stderr",
     "output_type": "stream",
     "text": [
      "\r",
      "Cleaning Progress:   0%|                                      | 51713/20706436 [00:13<1:31:09, 3776.25it/s]"
     ]
    },
    {
     "name": "stderr",
     "output_type": "stream",
     "text": [
      "\r",
      "Cleaning Progress:   0%|                                      | 52225/20706436 [00:14<1:30:51, 3788.74it/s]"
     ]
    },
    {
     "name": "stderr",
     "output_type": "stream",
     "text": [
      "\r",
      "Cleaning Progress:   0%|                                      | 52737/20706436 [00:14<1:30:40, 3796.46it/s]"
     ]
    },
    {
     "name": "stderr",
     "output_type": "stream",
     "text": [
      "\r",
      "Cleaning Progress:   0%|                                      | 53249/20706436 [00:14<1:30:49, 3790.12it/s]"
     ]
    },
    {
     "name": "stderr",
     "output_type": "stream",
     "text": [
      "\r",
      "Cleaning Progress:   0%|                                      | 53761/20706436 [00:14<1:31:07, 3777.54it/s]"
     ]
    },
    {
     "name": "stderr",
     "output_type": "stream",
     "text": [
      "\r",
      "Cleaning Progress:   0%|                                      | 54273/20706436 [00:14<1:31:26, 3764.13it/s]"
     ]
    },
    {
     "name": "stderr",
     "output_type": "stream",
     "text": [
      "\r",
      "Cleaning Progress:   0%|                                      | 54785/20706436 [00:14<1:31:38, 3755.57it/s]"
     ]
    },
    {
     "name": "stderr",
     "output_type": "stream",
     "text": [
      "\r",
      "Cleaning Progress:   0%|                                      | 55297/20706436 [00:14<1:31:05, 3778.35it/s]"
     ]
    },
    {
     "name": "stderr",
     "output_type": "stream",
     "text": [
      "\r",
      "Cleaning Progress:   0%|                                      | 55809/20706436 [00:14<1:30:43, 3793.48it/s]"
     ]
    },
    {
     "name": "stderr",
     "output_type": "stream",
     "text": [
      "\r",
      "Cleaning Progress:   0%|                                      | 56321/20706436 [00:15<1:30:44, 3792.51it/s]"
     ]
    },
    {
     "name": "stderr",
     "output_type": "stream",
     "text": [
      "\r",
      "Cleaning Progress:   0%|                                      | 56833/20706436 [00:15<1:30:33, 3800.34it/s]"
     ]
    },
    {
     "name": "stderr",
     "output_type": "stream",
     "text": [
      "\r",
      "Cleaning Progress:   0%|                                      | 57345/20706436 [00:15<1:30:37, 3797.55it/s]"
     ]
    },
    {
     "name": "stderr",
     "output_type": "stream",
     "text": [
      "\r",
      "Cleaning Progress:   0%|                                      | 57857/20706436 [00:15<1:30:37, 3797.56it/s]"
     ]
    },
    {
     "name": "stderr",
     "output_type": "stream",
     "text": [
      "\r",
      "Cleaning Progress:   0%|                                      | 58369/20706436 [00:15<1:31:21, 3766.53it/s]"
     ]
    },
    {
     "name": "stderr",
     "output_type": "stream",
     "text": [
      "\r",
      "Cleaning Progress:   0%|                                      | 58881/20706436 [00:15<1:31:26, 3763.27it/s]"
     ]
    },
    {
     "name": "stderr",
     "output_type": "stream",
     "text": [
      "\r",
      "Cleaning Progress:   0%|                                      | 59393/20706436 [00:15<1:30:56, 3784.15it/s]"
     ]
    },
    {
     "name": "stderr",
     "output_type": "stream",
     "text": [
      "\r",
      "Cleaning Progress:   0%|                                      | 59905/20706436 [00:16<1:30:52, 3786.59it/s]"
     ]
    },
    {
     "name": "stderr",
     "output_type": "stream",
     "text": [
      "\r",
      "Cleaning Progress:   0%|                                      | 60417/20706436 [00:16<1:31:01, 3780.34it/s]"
     ]
    },
    {
     "name": "stderr",
     "output_type": "stream",
     "text": [
      "\r",
      "Cleaning Progress:   0%|                                      | 60929/20706436 [00:16<1:31:36, 3756.13it/s]"
     ]
    },
    {
     "name": "stderr",
     "output_type": "stream",
     "text": [
      "\r",
      "Cleaning Progress:   0%|                                      | 61441/20706436 [00:16<1:32:50, 3706.25it/s]"
     ]
    },
    {
     "name": "stderr",
     "output_type": "stream",
     "text": [
      "\r",
      "Cleaning Progress:   0%|                                      | 61953/20706436 [00:16<1:35:32, 3601.06it/s]"
     ]
    },
    {
     "name": "stderr",
     "output_type": "stream",
     "text": [
      "\r",
      "Cleaning Progress:   0%|                                      | 62465/20706436 [00:16<1:40:57, 3407.85it/s]"
     ]
    },
    {
     "name": "stderr",
     "output_type": "stream",
     "text": [
      "\r",
      "Cleaning Progress:   0%|                                      | 62977/20706436 [00:16<1:37:52, 3515.40it/s]"
     ]
    },
    {
     "name": "stderr",
     "output_type": "stream",
     "text": [
      "\r",
      "Cleaning Progress:   0%|                                      | 63489/20706436 [00:17<1:35:38, 3597.35it/s]"
     ]
    },
    {
     "name": "stderr",
     "output_type": "stream",
     "text": [
      "\r",
      "Cleaning Progress:   0%|                                      | 64001/20706436 [00:17<1:34:06, 3655.65it/s]"
     ]
    },
    {
     "name": "stderr",
     "output_type": "stream",
     "text": [
      "\r",
      "Cleaning Progress:   0%|                                      | 64513/20706436 [00:17<1:32:50, 3705.84it/s]"
     ]
    },
    {
     "name": "stderr",
     "output_type": "stream",
     "text": [
      "\r",
      "Cleaning Progress:   0%|                                      | 65025/20706436 [00:17<1:31:58, 3740.12it/s]"
     ]
    },
    {
     "name": "stderr",
     "output_type": "stream",
     "text": [
      "\r",
      "Cleaning Progress:   0%|                                      | 65537/20706436 [00:17<1:31:23, 3764.46it/s]"
     ]
    },
    {
     "name": "stderr",
     "output_type": "stream",
     "text": [
      "\r",
      "Cleaning Progress:   0%|                                      | 66049/20706436 [00:17<1:31:41, 3751.76it/s]"
     ]
    },
    {
     "name": "stderr",
     "output_type": "stream",
     "text": [
      "\r",
      "Cleaning Progress:   0%|                                      | 66561/20706436 [00:17<1:31:17, 3768.29it/s]"
     ]
    },
    {
     "name": "stderr",
     "output_type": "stream",
     "text": [
      "\r",
      "Cleaning Progress:   0%|                                      | 67073/20706436 [00:18<1:31:07, 3774.82it/s]"
     ]
    },
    {
     "name": "stderr",
     "output_type": "stream",
     "text": [
      "\r",
      "Cleaning Progress:   0%|                                      | 67585/20706436 [00:18<1:31:50, 3745.33it/s]"
     ]
    },
    {
     "name": "stderr",
     "output_type": "stream",
     "text": [
      "\r",
      "Cleaning Progress:   0%|                                      | 68097/20706436 [00:18<1:32:03, 3736.37it/s]"
     ]
    },
    {
     "name": "stderr",
     "output_type": "stream",
     "text": [
      "\r",
      "Cleaning Progress:   0%|▏                                     | 68609/20706436 [00:18<1:31:40, 3752.24it/s]"
     ]
    },
    {
     "name": "stderr",
     "output_type": "stream",
     "text": [
      "\r",
      "Cleaning Progress:   0%|▏                                     | 69121/20706436 [00:18<1:31:14, 3769.46it/s]"
     ]
    },
    {
     "name": "stderr",
     "output_type": "stream",
     "text": [
      "\r",
      "Cleaning Progress:   0%|▏                                     | 69633/20706436 [00:18<1:31:05, 3776.08it/s]"
     ]
    },
    {
     "name": "stderr",
     "output_type": "stream",
     "text": [
      "\r",
      "Cleaning Progress:   0%|▏                                     | 70145/20706436 [00:18<1:31:24, 3762.79it/s]"
     ]
    },
    {
     "name": "stderr",
     "output_type": "stream",
     "text": [
      "\r",
      "Cleaning Progress:   0%|▏                                     | 70657/20706436 [00:18<1:30:49, 3786.80it/s]"
     ]
    },
    {
     "name": "stderr",
     "output_type": "stream",
     "text": [
      "\r",
      "Cleaning Progress:   0%|▏                                     | 71169/20706436 [00:19<1:30:35, 3796.27it/s]"
     ]
    },
    {
     "name": "stderr",
     "output_type": "stream",
     "text": [
      "\r",
      "Cleaning Progress:   0%|▏                                     | 71681/20706436 [00:19<1:31:53, 3742.69it/s]"
     ]
    },
    {
     "name": "stderr",
     "output_type": "stream",
     "text": [
      "\r",
      "Cleaning Progress:   0%|▏                                     | 72193/20706436 [00:19<1:32:09, 3731.78it/s]"
     ]
    },
    {
     "name": "stderr",
     "output_type": "stream",
     "text": [
      "\r",
      "Cleaning Progress:   0%|▏                                     | 72705/20706436 [00:19<1:35:38, 3595.90it/s]"
     ]
    },
    {
     "name": "stderr",
     "output_type": "stream",
     "text": [
      "\r",
      "Cleaning Progress:   0%|▏                                     | 73217/20706436 [00:19<1:42:41, 3348.97it/s]"
     ]
    },
    {
     "name": "stderr",
     "output_type": "stream",
     "text": [
      "\r",
      "Cleaning Progress:   0%|▏                                     | 73729/20706436 [00:19<1:40:25, 3424.51it/s]"
     ]
    },
    {
     "name": "stderr",
     "output_type": "stream",
     "text": [
      "\r",
      "Cleaning Progress:   0%|▏                                     | 74241/20706436 [00:19<1:37:15, 3535.38it/s]"
     ]
    },
    {
     "name": "stderr",
     "output_type": "stream",
     "text": [
      "\r",
      "Cleaning Progress:   0%|▏                                     | 74753/20706436 [00:20<1:35:29, 3600.93it/s]"
     ]
    },
    {
     "name": "stderr",
     "output_type": "stream",
     "text": [
      "\r",
      "Cleaning Progress:   0%|▏                                     | 75265/20706436 [00:20<1:34:14, 3648.88it/s]"
     ]
    },
    {
     "name": "stderr",
     "output_type": "stream",
     "text": [
      "\r",
      "Cleaning Progress:   0%|▏                                     | 75777/20706436 [00:20<1:33:10, 3690.60it/s]"
     ]
    },
    {
     "name": "stderr",
     "output_type": "stream",
     "text": [
      "\r",
      "Cleaning Progress:   0%|▏                                     | 76289/20706436 [00:20<1:32:21, 3722.70it/s]"
     ]
    },
    {
     "name": "stderr",
     "output_type": "stream",
     "text": [
      "\r",
      "Cleaning Progress:   0%|▏                                     | 76801/20706436 [00:20<1:31:49, 3744.39it/s]"
     ]
    },
    {
     "name": "stderr",
     "output_type": "stream",
     "text": [
      "\r",
      "Cleaning Progress:   0%|▏                                     | 77313/20706436 [00:20<1:31:18, 3765.81it/s]"
     ]
    },
    {
     "name": "stderr",
     "output_type": "stream",
     "text": [
      "\r",
      "Cleaning Progress:   0%|▏                                     | 77825/20706436 [00:20<1:31:47, 3745.77it/s]"
     ]
    },
    {
     "name": "stderr",
     "output_type": "stream",
     "text": [
      "\r",
      "Cleaning Progress:   0%|▏                                     | 78337/20706436 [00:21<1:31:49, 3743.98it/s]"
     ]
    },
    {
     "name": "stderr",
     "output_type": "stream",
     "text": [
      "\r",
      "Cleaning Progress:   0%|▏                                     | 78849/20706436 [00:21<1:31:29, 3757.95it/s]"
     ]
    },
    {
     "name": "stderr",
     "output_type": "stream",
     "text": [
      "\r",
      "Cleaning Progress:   0%|▏                                     | 79361/20706436 [00:21<1:30:54, 3781.51it/s]"
     ]
    },
    {
     "name": "stderr",
     "output_type": "stream",
     "text": [
      "\r",
      "Cleaning Progress:   0%|▏                                     | 79873/20706436 [00:21<1:30:40, 3791.60it/s]"
     ]
    },
    {
     "name": "stderr",
     "output_type": "stream",
     "text": [
      "\r",
      "Cleaning Progress:   0%|▏                                     | 80385/20706436 [00:21<1:30:32, 3797.04it/s]"
     ]
    },
    {
     "name": "stderr",
     "output_type": "stream",
     "text": [
      "\r",
      "Cleaning Progress:   0%|▏                                     | 80897/20706436 [00:21<1:30:39, 3791.58it/s]"
     ]
    },
    {
     "name": "stderr",
     "output_type": "stream",
     "text": [
      "\r",
      "Cleaning Progress:   0%|▏                                     | 81409/20706436 [00:21<1:30:55, 3780.93it/s]"
     ]
    },
    {
     "name": "stderr",
     "output_type": "stream",
     "text": [
      "\r",
      "Cleaning Progress:   0%|▏                                     | 81921/20706436 [00:22<1:31:21, 3762.34it/s]"
     ]
    },
    {
     "name": "stderr",
     "output_type": "stream",
     "text": [
      "\r",
      "Cleaning Progress:   0%|▏                                     | 82433/20706436 [00:22<1:31:24, 3760.65it/s]"
     ]
    },
    {
     "name": "stderr",
     "output_type": "stream",
     "text": [
      "\r",
      "Cleaning Progress:   0%|▏                                     | 82945/20706436 [00:22<1:30:55, 3780.39it/s]"
     ]
    },
    {
     "name": "stderr",
     "output_type": "stream",
     "text": [
      "\r",
      "Cleaning Progress:   0%|▏                                     | 83457/20706436 [00:22<1:30:59, 3777.17it/s]"
     ]
    },
    {
     "name": "stderr",
     "output_type": "stream",
     "text": [
      "\r",
      "Cleaning Progress:   0%|▏                                     | 83969/20706436 [00:22<1:35:12, 3610.30it/s]"
     ]
    },
    {
     "name": "stderr",
     "output_type": "stream",
     "text": [
      "\r",
      "Cleaning Progress:   0%|▏                                     | 84481/20706436 [00:22<1:36:10, 3573.45it/s]"
     ]
    },
    {
     "name": "stderr",
     "output_type": "stream",
     "text": [
      "\r",
      "Cleaning Progress:   0%|▏                                     | 84993/20706436 [00:22<1:34:41, 3629.32it/s]"
     ]
    },
    {
     "name": "stderr",
     "output_type": "stream",
     "text": [
      "\r",
      "Cleaning Progress:   0%|▏                                     | 85505/20706436 [00:23<1:34:00, 3655.88it/s]"
     ]
    },
    {
     "name": "stderr",
     "output_type": "stream",
     "text": [
      "\r",
      "Cleaning Progress:   0%|▏                                     | 86017/20706436 [00:23<1:32:54, 3699.18it/s]"
     ]
    },
    {
     "name": "stderr",
     "output_type": "stream",
     "text": [
      "\r",
      "Cleaning Progress:   0%|▏                                     | 86529/20706436 [00:23<1:31:56, 3737.81it/s]"
     ]
    },
    {
     "name": "stderr",
     "output_type": "stream",
     "text": [
      "\r",
      "Cleaning Progress:   0%|▏                                     | 87041/20706436 [00:23<1:31:08, 3770.40it/s]"
     ]
    },
    {
     "name": "stderr",
     "output_type": "stream",
     "text": [
      "\r",
      "Cleaning Progress:   0%|▏                                     | 87553/20706436 [00:23<1:30:32, 3795.80it/s]"
     ]
    },
    {
     "name": "stderr",
     "output_type": "stream",
     "text": [
      "\r",
      "Cleaning Progress:   0%|▏                                     | 88065/20706436 [00:23<1:30:54, 3780.23it/s]"
     ]
    },
    {
     "name": "stderr",
     "output_type": "stream",
     "text": [
      "\r",
      "Cleaning Progress:   0%|▏                                     | 88577/20706436 [00:23<1:39:12, 3463.67it/s]"
     ]
    },
    {
     "name": "stderr",
     "output_type": "stream",
     "text": [
      "\r",
      "Cleaning Progress:   0%|▏                                     | 89089/20706436 [00:23<1:37:34, 3521.58it/s]"
     ]
    },
    {
     "name": "stderr",
     "output_type": "stream",
     "text": [
      "\r",
      "Cleaning Progress:   0%|▏                                     | 89601/20706436 [00:24<1:36:52, 3546.79it/s]"
     ]
    },
    {
     "name": "stderr",
     "output_type": "stream",
     "text": [
      "\r",
      "Cleaning Progress:   0%|▏                                     | 90113/20706436 [00:24<1:37:11, 3535.19it/s]"
     ]
    },
    {
     "name": "stderr",
     "output_type": "stream",
     "text": [
      "\r",
      "Cleaning Progress:   0%|▏                                     | 90625/20706436 [00:24<1:35:49, 3585.70it/s]"
     ]
    },
    {
     "name": "stderr",
     "output_type": "stream",
     "text": [
      "\r",
      "Cleaning Progress:   0%|▏                                     | 91137/20706436 [00:24<1:34:52, 3621.78it/s]"
     ]
    },
    {
     "name": "stderr",
     "output_type": "stream",
     "text": [
      "\r",
      "Cleaning Progress:   0%|▏                                     | 91649/20706436 [00:24<1:34:00, 3655.02it/s]"
     ]
    },
    {
     "name": "stderr",
     "output_type": "stream",
     "text": [
      "\r",
      "Cleaning Progress:   0%|▏                                     | 92161/20706436 [00:24<1:32:48, 3702.02it/s]"
     ]
    },
    {
     "name": "stderr",
     "output_type": "stream",
     "text": [
      "\r",
      "Cleaning Progress:   0%|▏                                     | 92673/20706436 [00:24<1:33:24, 3678.24it/s]"
     ]
    },
    {
     "name": "stderr",
     "output_type": "stream",
     "text": [
      "\r",
      "Cleaning Progress:   0%|▏                                     | 93185/20706436 [00:25<1:32:41, 3706.51it/s]"
     ]
    },
    {
     "name": "stderr",
     "output_type": "stream",
     "text": [
      "\r",
      "Cleaning Progress:   0%|▏                                     | 93697/20706436 [00:25<1:32:49, 3701.12it/s]"
     ]
    },
    {
     "name": "stderr",
     "output_type": "stream",
     "text": [
      "\r",
      "Cleaning Progress:   0%|▏                                     | 94209/20706436 [00:25<1:32:40, 3707.05it/s]"
     ]
    },
    {
     "name": "stderr",
     "output_type": "stream",
     "text": [
      "\r",
      "Cleaning Progress:   0%|▏                                     | 94721/20706436 [00:25<1:32:40, 3706.55it/s]"
     ]
    },
    {
     "name": "stderr",
     "output_type": "stream",
     "text": [
      "\r",
      "Cleaning Progress:   0%|▏                                     | 95233/20706436 [00:25<1:35:15, 3605.99it/s]"
     ]
    },
    {
     "name": "stderr",
     "output_type": "stream",
     "text": [
      "\r",
      "Cleaning Progress:   0%|▏                                     | 95745/20706436 [00:25<1:36:18, 3567.00it/s]"
     ]
    },
    {
     "name": "stderr",
     "output_type": "stream",
     "text": [
      "\r",
      "Cleaning Progress:   0%|▏                                     | 96257/20706436 [00:25<1:34:44, 3625.42it/s]"
     ]
    },
    {
     "name": "stderr",
     "output_type": "stream",
     "text": [
      "\r",
      "Cleaning Progress:   0%|▏                                     | 96769/20706436 [00:26<1:33:25, 3676.53it/s]"
     ]
    },
    {
     "name": "stderr",
     "output_type": "stream",
     "text": [
      "\r",
      "Cleaning Progress:   0%|▏                                     | 97281/20706436 [00:26<1:33:59, 3654.45it/s]"
     ]
    },
    {
     "name": "stderr",
     "output_type": "stream",
     "text": [
      "\r",
      "Cleaning Progress:   0%|▏                                     | 97793/20706436 [00:26<1:34:19, 3641.41it/s]"
     ]
    },
    {
     "name": "stderr",
     "output_type": "stream",
     "text": [
      "\r",
      "Cleaning Progress:   0%|▏                                     | 98305/20706436 [00:26<1:34:02, 3652.34it/s]"
     ]
    },
    {
     "name": "stderr",
     "output_type": "stream",
     "text": [
      "\r",
      "Cleaning Progress:   0%|▏                                     | 98817/20706436 [00:26<1:33:32, 3671.85it/s]"
     ]
    },
    {
     "name": "stderr",
     "output_type": "stream",
     "text": [
      "\r",
      "Cleaning Progress:   0%|▏                                     | 99329/20706436 [00:26<1:34:20, 3640.58it/s]"
     ]
    },
    {
     "name": "stderr",
     "output_type": "stream",
     "text": [
      "\r",
      "Cleaning Progress:   0%|▏                                     | 99841/20706436 [00:26<1:34:30, 3634.11it/s]"
     ]
    },
    {
     "name": "stderr",
     "output_type": "stream",
     "text": [
      "\r",
      "Cleaning Progress:   0%|▏                                    | 100353/20706436 [00:27<1:33:36, 3669.12it/s]"
     ]
    },
    {
     "name": "stderr",
     "output_type": "stream",
     "text": [
      "\r",
      "Cleaning Progress:   0%|▏                                    | 100865/20706436 [00:27<1:33:06, 3688.27it/s]"
     ]
    },
    {
     "name": "stderr",
     "output_type": "stream",
     "text": [
      "\r",
      "Cleaning Progress:   0%|▏                                    | 101377/20706436 [00:27<1:34:53, 3619.18it/s]"
     ]
    },
    {
     "name": "stderr",
     "output_type": "stream",
     "text": [
      "\r",
      "Cleaning Progress:   0%|▏                                    | 101889/20706436 [00:27<1:34:44, 3624.49it/s]"
     ]
    },
    {
     "name": "stderr",
     "output_type": "stream",
     "text": [
      "\r",
      "Cleaning Progress:   0%|▏                                    | 102401/20706436 [00:27<1:33:36, 3668.21it/s]"
     ]
    },
    {
     "name": "stderr",
     "output_type": "stream",
     "text": [
      "\r",
      "Cleaning Progress:   0%|▏                                    | 102913/20706436 [00:27<1:32:38, 3706.85it/s]"
     ]
    },
    {
     "name": "stderr",
     "output_type": "stream",
     "text": [
      "\r",
      "Cleaning Progress:   0%|▏                                    | 103425/20706436 [00:27<1:31:56, 3734.90it/s]"
     ]
    },
    {
     "name": "stderr",
     "output_type": "stream",
     "text": [
      "\r",
      "Cleaning Progress:   1%|▏                                    | 103937/20706436 [00:28<1:31:46, 3741.38it/s]"
     ]
    },
    {
     "name": "stderr",
     "output_type": "stream",
     "text": [
      "\r",
      "Cleaning Progress:   1%|▏                                    | 104449/20706436 [00:28<1:31:20, 3758.86it/s]"
     ]
    },
    {
     "name": "stderr",
     "output_type": "stream",
     "text": [
      "\r",
      "Cleaning Progress:   1%|▏                                    | 104961/20706436 [00:28<1:30:50, 3780.01it/s]"
     ]
    },
    {
     "name": "stderr",
     "output_type": "stream",
     "text": [
      "\r",
      "Cleaning Progress:   1%|▏                                    | 105473/20706436 [00:28<1:31:19, 3759.85it/s]"
     ]
    },
    {
     "name": "stderr",
     "output_type": "stream",
     "text": [
      "\r",
      "Cleaning Progress:   1%|▏                                    | 105985/20706436 [00:28<1:32:19, 3718.68it/s]"
     ]
    },
    {
     "name": "stderr",
     "output_type": "stream",
     "text": [
      "\r",
      "Cleaning Progress:   1%|▏                                    | 106497/20706436 [00:28<1:33:13, 3682.87it/s]"
     ]
    },
    {
     "name": "stderr",
     "output_type": "stream",
     "text": [
      "\r",
      "Cleaning Progress:   1%|▏                                    | 107009/20706436 [00:28<1:32:32, 3710.13it/s]"
     ]
    },
    {
     "name": "stderr",
     "output_type": "stream",
     "text": [
      "\r",
      "Cleaning Progress:   1%|▏                                    | 107521/20706436 [00:28<1:31:30, 3751.48it/s]"
     ]
    },
    {
     "name": "stderr",
     "output_type": "stream",
     "text": [
      "\r",
      "Cleaning Progress:   1%|▏                                    | 108033/20706436 [00:29<1:30:50, 3778.97it/s]"
     ]
    },
    {
     "name": "stderr",
     "output_type": "stream",
     "text": [
      "\r",
      "Cleaning Progress:   1%|▏                                    | 108545/20706436 [00:29<1:30:52, 3777.97it/s]"
     ]
    },
    {
     "name": "stderr",
     "output_type": "stream",
     "text": [
      "\r",
      "Cleaning Progress:   1%|▏                                    | 109057/20706436 [00:29<1:30:30, 3793.22it/s]"
     ]
    },
    {
     "name": "stderr",
     "output_type": "stream",
     "text": [
      "\r",
      "Cleaning Progress:   1%|▏                                    | 109569/20706436 [00:29<1:31:03, 3770.21it/s]"
     ]
    },
    {
     "name": "stderr",
     "output_type": "stream",
     "text": [
      "\r",
      "Cleaning Progress:   1%|▏                                    | 110081/20706436 [00:29<1:31:12, 3763.44it/s]"
     ]
    },
    {
     "name": "stderr",
     "output_type": "stream",
     "text": [
      "\r",
      "Cleaning Progress:   1%|▏                                    | 110593/20706436 [00:29<1:32:45, 3700.81it/s]"
     ]
    },
    {
     "name": "stderr",
     "output_type": "stream",
     "text": [
      "\r",
      "Cleaning Progress:   1%|▏                                    | 110964/20706436 [00:29<1:33:52, 3656.53it/s]"
     ]
    },
    {
     "name": "stderr",
     "output_type": "stream",
     "text": [
      "\r",
      "Cleaning Progress:   1%|▏                                    | 111104/20706436 [00:29<1:32:38, 3705.16it/s]"
     ]
    },
    {
     "name": "stderr",
     "output_type": "stream",
     "text": [
      "\n"
     ]
    },
    {
     "ename": "KeyboardInterrupt",
     "evalue": "",
     "output_type": "error",
     "traceback": [
      "\u001b[0;31m---------------------------------------------------------------------------\u001b[0m",
      "\u001b[0;31mKeyboardInterrupt\u001b[0m                         Traceback (most recent call last)",
      "Cell \u001b[0;32mIn[9], line 1\u001b[0m\n\u001b[0;32m----> 1\u001b[0m cleaner\u001b[38;5;241m.\u001b[39mclean(text)\n",
      "File \u001b[0;32m~/anaconda3/lib/python3.11/site-packages/spacy_cleaner/cleaners.py:95\u001b[0m, in \u001b[0;36mCleaner.clean\u001b[0;34m(self, texts, as_tuples, batch_size, disable, component_cfg, n_process)\u001b[0m\n\u001b[1;32m     62\u001b[0m \u001b[38;5;28;01mdef\u001b[39;00m \u001b[38;5;21mclean\u001b[39m(  \u001b[38;5;66;03m# noqa: PLR0913\u001b[39;00m\n\u001b[1;32m     63\u001b[0m     \u001b[38;5;28mself\u001b[39m,\n\u001b[1;32m     64\u001b[0m     texts: Union[\n\u001b[0;32m   (...)\u001b[0m\n\u001b[1;32m     73\u001b[0m     n_process: \u001b[38;5;28mint\u001b[39m \u001b[38;5;241m=\u001b[39m \u001b[38;5;241m1\u001b[39m,\n\u001b[1;32m     74\u001b[0m ) \u001b[38;5;241m-\u001b[39m\u001b[38;5;241m>\u001b[39m List[\u001b[38;5;28mstr\u001b[39m]:\n\u001b[1;32m     75\u001b[0m \u001b[38;5;250m    \u001b[39m\u001b[38;5;124;03m\"\"\"Clean a stream of texts.\u001b[39;00m\n\u001b[1;32m     76\u001b[0m \n\u001b[1;32m     77\u001b[0m \u001b[38;5;124;03m    Args:\u001b[39;00m\n\u001b[0;32m   (...)\u001b[0m\n\u001b[1;32m     93\u001b[0m \u001b[38;5;124;03m        https://spacy.io/api/language#pipe\u001b[39;00m\n\u001b[1;32m     94\u001b[0m \u001b[38;5;124;03m    \"\"\"\u001b[39;00m\n\u001b[0;32m---> 95\u001b[0m     \u001b[38;5;28;01mreturn\u001b[39;00m [\n\u001b[1;32m     96\u001b[0m         helpers\u001b[38;5;241m.\u001b[39mclean_doc(doc, \u001b[38;5;241m*\u001b[39m\u001b[38;5;28mself\u001b[39m\u001b[38;5;241m.\u001b[39mprocessors)\n\u001b[1;32m     97\u001b[0m         \u001b[38;5;28;01mfor\u001b[39;00m doc \u001b[38;5;129;01min\u001b[39;00m tqdm\u001b[38;5;241m.\u001b[39mtqdm(\n\u001b[1;32m     98\u001b[0m             \u001b[38;5;28mself\u001b[39m\u001b[38;5;241m.\u001b[39mmodel\u001b[38;5;241m.\u001b[39mpipe(  \u001b[38;5;66;03m# type: ignore[call-overload]\u001b[39;00m\n\u001b[1;32m     99\u001b[0m                 texts,\n\u001b[1;32m    100\u001b[0m                 as_tuples\u001b[38;5;241m=\u001b[39mas_tuples,\n\u001b[1;32m    101\u001b[0m                 batch_size\u001b[38;5;241m=\u001b[39mbatch_size,\n\u001b[1;32m    102\u001b[0m                 disable\u001b[38;5;241m=\u001b[39mdisable,\n\u001b[1;32m    103\u001b[0m                 component_cfg\u001b[38;5;241m=\u001b[39mcomponent_cfg,\n\u001b[1;32m    104\u001b[0m                 n_process\u001b[38;5;241m=\u001b[39mn_process,\n\u001b[1;32m    105\u001b[0m             ),\n\u001b[1;32m    106\u001b[0m             desc\u001b[38;5;241m=\u001b[39m\u001b[38;5;124m\"\u001b[39m\u001b[38;5;124mCleaning Progress\u001b[39m\u001b[38;5;124m\"\u001b[39m,\n\u001b[1;32m    107\u001b[0m             total\u001b[38;5;241m=\u001b[39m\u001b[38;5;28mlen\u001b[39m(texts),  \u001b[38;5;66;03m# type: ignore[arg-type]\u001b[39;00m\n\u001b[1;32m    108\u001b[0m         )\n\u001b[1;32m    109\u001b[0m     ]\n",
      "File \u001b[0;32m~/anaconda3/lib/python3.11/site-packages/spacy_cleaner/cleaners.py:95\u001b[0m, in \u001b[0;36m<listcomp>\u001b[0;34m(.0)\u001b[0m\n\u001b[1;32m     62\u001b[0m \u001b[38;5;28;01mdef\u001b[39;00m \u001b[38;5;21mclean\u001b[39m(  \u001b[38;5;66;03m# noqa: PLR0913\u001b[39;00m\n\u001b[1;32m     63\u001b[0m     \u001b[38;5;28mself\u001b[39m,\n\u001b[1;32m     64\u001b[0m     texts: Union[\n\u001b[0;32m   (...)\u001b[0m\n\u001b[1;32m     73\u001b[0m     n_process: \u001b[38;5;28mint\u001b[39m \u001b[38;5;241m=\u001b[39m \u001b[38;5;241m1\u001b[39m,\n\u001b[1;32m     74\u001b[0m ) \u001b[38;5;241m-\u001b[39m\u001b[38;5;241m>\u001b[39m List[\u001b[38;5;28mstr\u001b[39m]:\n\u001b[1;32m     75\u001b[0m \u001b[38;5;250m    \u001b[39m\u001b[38;5;124;03m\"\"\"Clean a stream of texts.\u001b[39;00m\n\u001b[1;32m     76\u001b[0m \n\u001b[1;32m     77\u001b[0m \u001b[38;5;124;03m    Args:\u001b[39;00m\n\u001b[0;32m   (...)\u001b[0m\n\u001b[1;32m     93\u001b[0m \u001b[38;5;124;03m        https://spacy.io/api/language#pipe\u001b[39;00m\n\u001b[1;32m     94\u001b[0m \u001b[38;5;124;03m    \"\"\"\u001b[39;00m\n\u001b[0;32m---> 95\u001b[0m     \u001b[38;5;28;01mreturn\u001b[39;00m [\n\u001b[1;32m     96\u001b[0m         helpers\u001b[38;5;241m.\u001b[39mclean_doc(doc, \u001b[38;5;241m*\u001b[39m\u001b[38;5;28mself\u001b[39m\u001b[38;5;241m.\u001b[39mprocessors)\n\u001b[1;32m     97\u001b[0m         \u001b[38;5;28;01mfor\u001b[39;00m doc \u001b[38;5;129;01min\u001b[39;00m tqdm\u001b[38;5;241m.\u001b[39mtqdm(\n\u001b[1;32m     98\u001b[0m             \u001b[38;5;28mself\u001b[39m\u001b[38;5;241m.\u001b[39mmodel\u001b[38;5;241m.\u001b[39mpipe(  \u001b[38;5;66;03m# type: ignore[call-overload]\u001b[39;00m\n\u001b[1;32m     99\u001b[0m                 texts,\n\u001b[1;32m    100\u001b[0m                 as_tuples\u001b[38;5;241m=\u001b[39mas_tuples,\n\u001b[1;32m    101\u001b[0m                 batch_size\u001b[38;5;241m=\u001b[39mbatch_size,\n\u001b[1;32m    102\u001b[0m                 disable\u001b[38;5;241m=\u001b[39mdisable,\n\u001b[1;32m    103\u001b[0m                 component_cfg\u001b[38;5;241m=\u001b[39mcomponent_cfg,\n\u001b[1;32m    104\u001b[0m                 n_process\u001b[38;5;241m=\u001b[39mn_process,\n\u001b[1;32m    105\u001b[0m             ),\n\u001b[1;32m    106\u001b[0m             desc\u001b[38;5;241m=\u001b[39m\u001b[38;5;124m\"\u001b[39m\u001b[38;5;124mCleaning Progress\u001b[39m\u001b[38;5;124m\"\u001b[39m,\n\u001b[1;32m    107\u001b[0m             total\u001b[38;5;241m=\u001b[39m\u001b[38;5;28mlen\u001b[39m(texts),  \u001b[38;5;66;03m# type: ignore[arg-type]\u001b[39;00m\n\u001b[1;32m    108\u001b[0m         )\n\u001b[1;32m    109\u001b[0m     ]\n",
      "File \u001b[0;32m~/anaconda3/lib/python3.11/site-packages/tqdm/std.py:1181\u001b[0m, in \u001b[0;36mtqdm.__iter__\u001b[0;34m(self)\u001b[0m\n\u001b[1;32m   1178\u001b[0m time \u001b[38;5;241m=\u001b[39m \u001b[38;5;28mself\u001b[39m\u001b[38;5;241m.\u001b[39m_time\n\u001b[1;32m   1180\u001b[0m \u001b[38;5;28;01mtry\u001b[39;00m:\n\u001b[0;32m-> 1181\u001b[0m     \u001b[38;5;28;01mfor\u001b[39;00m obj \u001b[38;5;129;01min\u001b[39;00m iterable:\n\u001b[1;32m   1182\u001b[0m         \u001b[38;5;28;01myield\u001b[39;00m obj\n\u001b[1;32m   1183\u001b[0m         \u001b[38;5;66;03m# Update and possibly print the progressbar.\u001b[39;00m\n\u001b[1;32m   1184\u001b[0m         \u001b[38;5;66;03m# Note: does not call self.update(1) for speed optimisation.\u001b[39;00m\n",
      "File \u001b[0;32m~/anaconda3/lib/python3.11/site-packages/spacy/language.py:1618\u001b[0m, in \u001b[0;36mLanguage.pipe\u001b[0;34m(self, texts, as_tuples, batch_size, disable, component_cfg, n_process)\u001b[0m\n\u001b[1;32m   1616\u001b[0m     \u001b[38;5;28;01mfor\u001b[39;00m pipe \u001b[38;5;129;01min\u001b[39;00m pipes:\n\u001b[1;32m   1617\u001b[0m         docs \u001b[38;5;241m=\u001b[39m pipe(docs)\n\u001b[0;32m-> 1618\u001b[0m \u001b[38;5;28;01mfor\u001b[39;00m doc \u001b[38;5;129;01min\u001b[39;00m docs:\n\u001b[1;32m   1619\u001b[0m     \u001b[38;5;28;01myield\u001b[39;00m doc\n",
      "File \u001b[0;32m~/anaconda3/lib/python3.11/site-packages/spacy/util.py:1685\u001b[0m, in \u001b[0;36m_pipe\u001b[0;34m(docs, proc, name, default_error_handler, kwargs)\u001b[0m\n\u001b[1;32m   1675\u001b[0m \u001b[38;5;28;01mdef\u001b[39;00m \u001b[38;5;21m_pipe\u001b[39m(\n\u001b[1;32m   1676\u001b[0m     docs: Iterable[\u001b[38;5;124m\"\u001b[39m\u001b[38;5;124mDoc\u001b[39m\u001b[38;5;124m\"\u001b[39m],\n\u001b[1;32m   1677\u001b[0m     proc: \u001b[38;5;124m\"\u001b[39m\u001b[38;5;124mPipeCallable\u001b[39m\u001b[38;5;124m\"\u001b[39m,\n\u001b[0;32m   (...)\u001b[0m\n\u001b[1;32m   1682\u001b[0m     kwargs: Mapping[\u001b[38;5;28mstr\u001b[39m, Any],\n\u001b[1;32m   1683\u001b[0m ) \u001b[38;5;241m-\u001b[39m\u001b[38;5;241m>\u001b[39m Iterator[\u001b[38;5;124m\"\u001b[39m\u001b[38;5;124mDoc\u001b[39m\u001b[38;5;124m\"\u001b[39m]:\n\u001b[1;32m   1684\u001b[0m     \u001b[38;5;28;01mif\u001b[39;00m \u001b[38;5;28mhasattr\u001b[39m(proc, \u001b[38;5;124m\"\u001b[39m\u001b[38;5;124mpipe\u001b[39m\u001b[38;5;124m\"\u001b[39m):\n\u001b[0;32m-> 1685\u001b[0m         \u001b[38;5;28;01myield from\u001b[39;00m proc\u001b[38;5;241m.\u001b[39mpipe(docs, \u001b[38;5;241m*\u001b[39m\u001b[38;5;241m*\u001b[39mkwargs)\n\u001b[1;32m   1686\u001b[0m     \u001b[38;5;28;01melse\u001b[39;00m:\n\u001b[1;32m   1687\u001b[0m         \u001b[38;5;66;03m# We added some args for pipe that __call__ doesn't expect.\u001b[39;00m\n\u001b[1;32m   1688\u001b[0m         kwargs \u001b[38;5;241m=\u001b[39m \u001b[38;5;28mdict\u001b[39m(kwargs)\n",
      "File \u001b[0;32m~/anaconda3/lib/python3.11/site-packages/spacy/pipeline/transition_parser.pyx:251\u001b[0m, in \u001b[0;36mpipe\u001b[0;34m()\u001b[0m\n",
      "File \u001b[0;32m~/anaconda3/lib/python3.11/site-packages/spacy/pipeline/transition_parser.pyx:264\u001b[0m, in \u001b[0;36mspacy.pipeline.transition_parser.Parser.predict\u001b[0;34m()\u001b[0m\n",
      "File \u001b[0;32m~/anaconda3/lib/python3.11/site-packages/spacy/pipeline/transition_parser.pyx:285\u001b[0m, in \u001b[0;36mspacy.pipeline.transition_parser.Parser.greedy_parse\u001b[0;34m()\u001b[0m\n",
      "File \u001b[0;32m~/anaconda3/lib/python3.11/site-packages/thinc/model.py:334\u001b[0m, in \u001b[0;36mModel.predict\u001b[0;34m(self, X)\u001b[0m\n\u001b[1;32m    330\u001b[0m \u001b[38;5;28;01mdef\u001b[39;00m \u001b[38;5;21mpredict\u001b[39m(\u001b[38;5;28mself\u001b[39m, X: InT) \u001b[38;5;241m-\u001b[39m\u001b[38;5;241m>\u001b[39m OutT:\n\u001b[1;32m    331\u001b[0m \u001b[38;5;250m    \u001b[39m\u001b[38;5;124;03m\"\"\"Call the model's `forward` function with `is_train=False`, and return\u001b[39;00m\n\u001b[1;32m    332\u001b[0m \u001b[38;5;124;03m    only the output, instead of the `(output, callback)` tuple.\u001b[39;00m\n\u001b[1;32m    333\u001b[0m \u001b[38;5;124;03m    \"\"\"\u001b[39;00m\n\u001b[0;32m--> 334\u001b[0m     \u001b[38;5;28;01mreturn\u001b[39;00m \u001b[38;5;28mself\u001b[39m\u001b[38;5;241m.\u001b[39m_func(\u001b[38;5;28mself\u001b[39m, X, is_train\u001b[38;5;241m=\u001b[39m\u001b[38;5;28;01mFalse\u001b[39;00m)[\u001b[38;5;241m0\u001b[39m]\n",
      "File \u001b[0;32m~/anaconda3/lib/python3.11/site-packages/spacy/ml/tb_framework.py:34\u001b[0m, in \u001b[0;36mforward\u001b[0;34m(model, X, is_train)\u001b[0m\n\u001b[1;32m     33\u001b[0m \u001b[38;5;28;01mdef\u001b[39;00m \u001b[38;5;21mforward\u001b[39m(model, X, is_train):\n\u001b[0;32m---> 34\u001b[0m     step_model \u001b[38;5;241m=\u001b[39m ParserStepModel(\n\u001b[1;32m     35\u001b[0m         X,\n\u001b[1;32m     36\u001b[0m         model\u001b[38;5;241m.\u001b[39mlayers,\n\u001b[1;32m     37\u001b[0m         unseen_classes\u001b[38;5;241m=\u001b[39mmodel\u001b[38;5;241m.\u001b[39mattrs[\u001b[38;5;124m\"\u001b[39m\u001b[38;5;124munseen_classes\u001b[39m\u001b[38;5;124m\"\u001b[39m],\n\u001b[1;32m     38\u001b[0m         train\u001b[38;5;241m=\u001b[39mis_train,\n\u001b[1;32m     39\u001b[0m         has_upper\u001b[38;5;241m=\u001b[39mmodel\u001b[38;5;241m.\u001b[39mattrs[\u001b[38;5;124m\"\u001b[39m\u001b[38;5;124mhas_upper\u001b[39m\u001b[38;5;124m\"\u001b[39m],\n\u001b[1;32m     40\u001b[0m     )\n\u001b[1;32m     42\u001b[0m     \u001b[38;5;28;01mreturn\u001b[39;00m step_model, step_model\u001b[38;5;241m.\u001b[39mfinish_steps\n",
      "File \u001b[0;32m~/anaconda3/lib/python3.11/site-packages/spacy/ml/parser_model.pyx:250\u001b[0m, in \u001b[0;36mspacy.ml.parser_model.ParserStepModel.__init__\u001b[0;34m()\u001b[0m\n",
      "File \u001b[0;32m~/anaconda3/lib/python3.11/site-packages/thinc/model.py:310\u001b[0m, in \u001b[0;36mModel.__call__\u001b[0;34m(self, X, is_train)\u001b[0m\n\u001b[1;32m    307\u001b[0m \u001b[38;5;28;01mdef\u001b[39;00m \u001b[38;5;21m__call__\u001b[39m(\u001b[38;5;28mself\u001b[39m, X: InT, is_train: \u001b[38;5;28mbool\u001b[39m) \u001b[38;5;241m-\u001b[39m\u001b[38;5;241m>\u001b[39m Tuple[OutT, Callable]:\n\u001b[1;32m    308\u001b[0m \u001b[38;5;250m    \u001b[39m\u001b[38;5;124;03m\"\"\"Call the model's `forward` function, returning the output and a\u001b[39;00m\n\u001b[1;32m    309\u001b[0m \u001b[38;5;124;03m    callback to compute the gradients via backpropagation.\"\"\"\u001b[39;00m\n\u001b[0;32m--> 310\u001b[0m     \u001b[38;5;28;01mreturn\u001b[39;00m \u001b[38;5;28mself\u001b[39m\u001b[38;5;241m.\u001b[39m_func(\u001b[38;5;28mself\u001b[39m, X, is_train\u001b[38;5;241m=\u001b[39mis_train)\n",
      "File \u001b[0;32m~/anaconda3/lib/python3.11/site-packages/thinc/layers/chain.py:54\u001b[0m, in \u001b[0;36mforward\u001b[0;34m(model, X, is_train)\u001b[0m\n\u001b[1;32m     52\u001b[0m callbacks \u001b[38;5;241m=\u001b[39m []\n\u001b[1;32m     53\u001b[0m \u001b[38;5;28;01mfor\u001b[39;00m layer \u001b[38;5;129;01min\u001b[39;00m model\u001b[38;5;241m.\u001b[39mlayers:\n\u001b[0;32m---> 54\u001b[0m     Y, inc_layer_grad \u001b[38;5;241m=\u001b[39m layer(X, is_train\u001b[38;5;241m=\u001b[39mis_train)\n\u001b[1;32m     55\u001b[0m     callbacks\u001b[38;5;241m.\u001b[39mappend(inc_layer_grad)\n\u001b[1;32m     56\u001b[0m     X \u001b[38;5;241m=\u001b[39m Y\n",
      "File \u001b[0;32m~/anaconda3/lib/python3.11/site-packages/thinc/model.py:310\u001b[0m, in \u001b[0;36mModel.__call__\u001b[0;34m(self, X, is_train)\u001b[0m\n\u001b[1;32m    307\u001b[0m \u001b[38;5;28;01mdef\u001b[39;00m \u001b[38;5;21m__call__\u001b[39m(\u001b[38;5;28mself\u001b[39m, X: InT, is_train: \u001b[38;5;28mbool\u001b[39m) \u001b[38;5;241m-\u001b[39m\u001b[38;5;241m>\u001b[39m Tuple[OutT, Callable]:\n\u001b[1;32m    308\u001b[0m \u001b[38;5;250m    \u001b[39m\u001b[38;5;124;03m\"\"\"Call the model's `forward` function, returning the output and a\u001b[39;00m\n\u001b[1;32m    309\u001b[0m \u001b[38;5;124;03m    callback to compute the gradients via backpropagation.\"\"\"\u001b[39;00m\n\u001b[0;32m--> 310\u001b[0m     \u001b[38;5;28;01mreturn\u001b[39;00m \u001b[38;5;28mself\u001b[39m\u001b[38;5;241m.\u001b[39m_func(\u001b[38;5;28mself\u001b[39m, X, is_train\u001b[38;5;241m=\u001b[39mis_train)\n",
      "File \u001b[0;32m~/anaconda3/lib/python3.11/site-packages/thinc/layers/chain.py:54\u001b[0m, in \u001b[0;36mforward\u001b[0;34m(model, X, is_train)\u001b[0m\n\u001b[1;32m     52\u001b[0m callbacks \u001b[38;5;241m=\u001b[39m []\n\u001b[1;32m     53\u001b[0m \u001b[38;5;28;01mfor\u001b[39;00m layer \u001b[38;5;129;01min\u001b[39;00m model\u001b[38;5;241m.\u001b[39mlayers:\n\u001b[0;32m---> 54\u001b[0m     Y, inc_layer_grad \u001b[38;5;241m=\u001b[39m layer(X, is_train\u001b[38;5;241m=\u001b[39mis_train)\n\u001b[1;32m     55\u001b[0m     callbacks\u001b[38;5;241m.\u001b[39mappend(inc_layer_grad)\n\u001b[1;32m     56\u001b[0m     X \u001b[38;5;241m=\u001b[39m Y\n",
      "File \u001b[0;32m~/anaconda3/lib/python3.11/site-packages/thinc/model.py:310\u001b[0m, in \u001b[0;36mModel.__call__\u001b[0;34m(self, X, is_train)\u001b[0m\n\u001b[1;32m    307\u001b[0m \u001b[38;5;28;01mdef\u001b[39;00m \u001b[38;5;21m__call__\u001b[39m(\u001b[38;5;28mself\u001b[39m, X: InT, is_train: \u001b[38;5;28mbool\u001b[39m) \u001b[38;5;241m-\u001b[39m\u001b[38;5;241m>\u001b[39m Tuple[OutT, Callable]:\n\u001b[1;32m    308\u001b[0m \u001b[38;5;250m    \u001b[39m\u001b[38;5;124;03m\"\"\"Call the model's `forward` function, returning the output and a\u001b[39;00m\n\u001b[1;32m    309\u001b[0m \u001b[38;5;124;03m    callback to compute the gradients via backpropagation.\"\"\"\u001b[39;00m\n\u001b[0;32m--> 310\u001b[0m     \u001b[38;5;28;01mreturn\u001b[39;00m \u001b[38;5;28mself\u001b[39m\u001b[38;5;241m.\u001b[39m_func(\u001b[38;5;28mself\u001b[39m, X, is_train\u001b[38;5;241m=\u001b[39mis_train)\n",
      "File \u001b[0;32m~/anaconda3/lib/python3.11/site-packages/thinc/layers/with_array.py:42\u001b[0m, in \u001b[0;36mforward\u001b[0;34m(model, Xseq, is_train)\u001b[0m\n\u001b[1;32m     40\u001b[0m     \u001b[38;5;28;01mreturn\u001b[39;00m model\u001b[38;5;241m.\u001b[39mlayers[\u001b[38;5;241m0\u001b[39m](Xseq, is_train)\n\u001b[1;32m     41\u001b[0m \u001b[38;5;28;01melse\u001b[39;00m:\n\u001b[0;32m---> 42\u001b[0m     \u001b[38;5;28;01mreturn\u001b[39;00m cast(Tuple[SeqT, Callable], _list_forward(model, Xseq, is_train))\n",
      "File \u001b[0;32m~/anaconda3/lib/python3.11/site-packages/thinc/layers/with_array.py:77\u001b[0m, in \u001b[0;36m_list_forward\u001b[0;34m(model, Xs, is_train)\u001b[0m\n\u001b[1;32m     75\u001b[0m lengths \u001b[38;5;241m=\u001b[39m NUMPY_OPS\u001b[38;5;241m.\u001b[39masarray1i([\u001b[38;5;28mlen\u001b[39m(seq) \u001b[38;5;28;01mfor\u001b[39;00m seq \u001b[38;5;129;01min\u001b[39;00m Xs])\n\u001b[1;32m     76\u001b[0m Xf \u001b[38;5;241m=\u001b[39m layer\u001b[38;5;241m.\u001b[39mops\u001b[38;5;241m.\u001b[39mflatten(Xs, pad\u001b[38;5;241m=\u001b[39mpad)\n\u001b[0;32m---> 77\u001b[0m Yf, get_dXf \u001b[38;5;241m=\u001b[39m layer(Xf, is_train)\n\u001b[1;32m     79\u001b[0m \u001b[38;5;28;01mdef\u001b[39;00m \u001b[38;5;21mbackprop\u001b[39m(dYs: ListXd) \u001b[38;5;241m-\u001b[39m\u001b[38;5;241m>\u001b[39m ListXd:\n\u001b[1;32m     80\u001b[0m     dYf \u001b[38;5;241m=\u001b[39m layer\u001b[38;5;241m.\u001b[39mops\u001b[38;5;241m.\u001b[39mflatten(dYs, pad\u001b[38;5;241m=\u001b[39mpad)\n",
      "File \u001b[0;32m~/anaconda3/lib/python3.11/site-packages/thinc/model.py:310\u001b[0m, in \u001b[0;36mModel.__call__\u001b[0;34m(self, X, is_train)\u001b[0m\n\u001b[1;32m    307\u001b[0m \u001b[38;5;28;01mdef\u001b[39;00m \u001b[38;5;21m__call__\u001b[39m(\u001b[38;5;28mself\u001b[39m, X: InT, is_train: \u001b[38;5;28mbool\u001b[39m) \u001b[38;5;241m-\u001b[39m\u001b[38;5;241m>\u001b[39m Tuple[OutT, Callable]:\n\u001b[1;32m    308\u001b[0m \u001b[38;5;250m    \u001b[39m\u001b[38;5;124;03m\"\"\"Call the model's `forward` function, returning the output and a\u001b[39;00m\n\u001b[1;32m    309\u001b[0m \u001b[38;5;124;03m    callback to compute the gradients via backpropagation.\"\"\"\u001b[39;00m\n\u001b[0;32m--> 310\u001b[0m     \u001b[38;5;28;01mreturn\u001b[39;00m \u001b[38;5;28mself\u001b[39m\u001b[38;5;241m.\u001b[39m_func(\u001b[38;5;28mself\u001b[39m, X, is_train\u001b[38;5;241m=\u001b[39mis_train)\n",
      "File \u001b[0;32m~/anaconda3/lib/python3.11/site-packages/thinc/layers/chain.py:54\u001b[0m, in \u001b[0;36mforward\u001b[0;34m(model, X, is_train)\u001b[0m\n\u001b[1;32m     52\u001b[0m callbacks \u001b[38;5;241m=\u001b[39m []\n\u001b[1;32m     53\u001b[0m \u001b[38;5;28;01mfor\u001b[39;00m layer \u001b[38;5;129;01min\u001b[39;00m model\u001b[38;5;241m.\u001b[39mlayers:\n\u001b[0;32m---> 54\u001b[0m     Y, inc_layer_grad \u001b[38;5;241m=\u001b[39m layer(X, is_train\u001b[38;5;241m=\u001b[39mis_train)\n\u001b[1;32m     55\u001b[0m     callbacks\u001b[38;5;241m.\u001b[39mappend(inc_layer_grad)\n\u001b[1;32m     56\u001b[0m     X \u001b[38;5;241m=\u001b[39m Y\n",
      "File \u001b[0;32m~/anaconda3/lib/python3.11/site-packages/thinc/model.py:310\u001b[0m, in \u001b[0;36mModel.__call__\u001b[0;34m(self, X, is_train)\u001b[0m\n\u001b[1;32m    307\u001b[0m \u001b[38;5;28;01mdef\u001b[39;00m \u001b[38;5;21m__call__\u001b[39m(\u001b[38;5;28mself\u001b[39m, X: InT, is_train: \u001b[38;5;28mbool\u001b[39m) \u001b[38;5;241m-\u001b[39m\u001b[38;5;241m>\u001b[39m Tuple[OutT, Callable]:\n\u001b[1;32m    308\u001b[0m \u001b[38;5;250m    \u001b[39m\u001b[38;5;124;03m\"\"\"Call the model's `forward` function, returning the output and a\u001b[39;00m\n\u001b[1;32m    309\u001b[0m \u001b[38;5;124;03m    callback to compute the gradients via backpropagation.\"\"\"\u001b[39;00m\n\u001b[0;32m--> 310\u001b[0m     \u001b[38;5;28;01mreturn\u001b[39;00m \u001b[38;5;28mself\u001b[39m\u001b[38;5;241m.\u001b[39m_func(\u001b[38;5;28mself\u001b[39m, X, is_train\u001b[38;5;241m=\u001b[39mis_train)\n",
      "File \u001b[0;32m~/anaconda3/lib/python3.11/site-packages/thinc/layers/residual.py:41\u001b[0m, in \u001b[0;36mforward\u001b[0;34m(model, X, is_train)\u001b[0m\n\u001b[1;32m     38\u001b[0m     \u001b[38;5;28;01melse\u001b[39;00m:\n\u001b[1;32m     39\u001b[0m         \u001b[38;5;28;01mreturn\u001b[39;00m d_output \u001b[38;5;241m+\u001b[39m dX\n\u001b[0;32m---> 41\u001b[0m Y, backprop_layer \u001b[38;5;241m=\u001b[39m model\u001b[38;5;241m.\u001b[39mlayers[\u001b[38;5;241m0\u001b[39m](X, is_train)\n\u001b[1;32m     42\u001b[0m \u001b[38;5;28;01mif\u001b[39;00m \u001b[38;5;28misinstance\u001b[39m(X, \u001b[38;5;28mlist\u001b[39m):\n\u001b[1;32m     43\u001b[0m     \u001b[38;5;28;01mreturn\u001b[39;00m [X[i] \u001b[38;5;241m+\u001b[39m Y[i] \u001b[38;5;28;01mfor\u001b[39;00m i \u001b[38;5;129;01min\u001b[39;00m \u001b[38;5;28mrange\u001b[39m(\u001b[38;5;28mlen\u001b[39m(X))], backprop\n",
      "File \u001b[0;32m~/anaconda3/lib/python3.11/site-packages/thinc/model.py:310\u001b[0m, in \u001b[0;36mModel.__call__\u001b[0;34m(self, X, is_train)\u001b[0m\n\u001b[1;32m    307\u001b[0m \u001b[38;5;28;01mdef\u001b[39;00m \u001b[38;5;21m__call__\u001b[39m(\u001b[38;5;28mself\u001b[39m, X: InT, is_train: \u001b[38;5;28mbool\u001b[39m) \u001b[38;5;241m-\u001b[39m\u001b[38;5;241m>\u001b[39m Tuple[OutT, Callable]:\n\u001b[1;32m    308\u001b[0m \u001b[38;5;250m    \u001b[39m\u001b[38;5;124;03m\"\"\"Call the model's `forward` function, returning the output and a\u001b[39;00m\n\u001b[1;32m    309\u001b[0m \u001b[38;5;124;03m    callback to compute the gradients via backpropagation.\"\"\"\u001b[39;00m\n\u001b[0;32m--> 310\u001b[0m     \u001b[38;5;28;01mreturn\u001b[39;00m \u001b[38;5;28mself\u001b[39m\u001b[38;5;241m.\u001b[39m_func(\u001b[38;5;28mself\u001b[39m, X, is_train\u001b[38;5;241m=\u001b[39mis_train)\n",
      "File \u001b[0;32m~/anaconda3/lib/python3.11/site-packages/thinc/layers/chain.py:54\u001b[0m, in \u001b[0;36mforward\u001b[0;34m(model, X, is_train)\u001b[0m\n\u001b[1;32m     52\u001b[0m callbacks \u001b[38;5;241m=\u001b[39m []\n\u001b[1;32m     53\u001b[0m \u001b[38;5;28;01mfor\u001b[39;00m layer \u001b[38;5;129;01min\u001b[39;00m model\u001b[38;5;241m.\u001b[39mlayers:\n\u001b[0;32m---> 54\u001b[0m     Y, inc_layer_grad \u001b[38;5;241m=\u001b[39m layer(X, is_train\u001b[38;5;241m=\u001b[39mis_train)\n\u001b[1;32m     55\u001b[0m     callbacks\u001b[38;5;241m.\u001b[39mappend(inc_layer_grad)\n\u001b[1;32m     56\u001b[0m     X \u001b[38;5;241m=\u001b[39m Y\n",
      "File \u001b[0;32m~/anaconda3/lib/python3.11/site-packages/thinc/model.py:310\u001b[0m, in \u001b[0;36mModel.__call__\u001b[0;34m(self, X, is_train)\u001b[0m\n\u001b[1;32m    307\u001b[0m \u001b[38;5;28;01mdef\u001b[39;00m \u001b[38;5;21m__call__\u001b[39m(\u001b[38;5;28mself\u001b[39m, X: InT, is_train: \u001b[38;5;28mbool\u001b[39m) \u001b[38;5;241m-\u001b[39m\u001b[38;5;241m>\u001b[39m Tuple[OutT, Callable]:\n\u001b[1;32m    308\u001b[0m \u001b[38;5;250m    \u001b[39m\u001b[38;5;124;03m\"\"\"Call the model's `forward` function, returning the output and a\u001b[39;00m\n\u001b[1;32m    309\u001b[0m \u001b[38;5;124;03m    callback to compute the gradients via backpropagation.\"\"\"\u001b[39;00m\n\u001b[0;32m--> 310\u001b[0m     \u001b[38;5;28;01mreturn\u001b[39;00m \u001b[38;5;28mself\u001b[39m\u001b[38;5;241m.\u001b[39m_func(\u001b[38;5;28mself\u001b[39m, X, is_train\u001b[38;5;241m=\u001b[39mis_train)\n",
      "File \u001b[0;32m~/anaconda3/lib/python3.11/site-packages/thinc/layers/chain.py:54\u001b[0m, in \u001b[0;36mforward\u001b[0;34m(model, X, is_train)\u001b[0m\n\u001b[1;32m     52\u001b[0m callbacks \u001b[38;5;241m=\u001b[39m []\n\u001b[1;32m     53\u001b[0m \u001b[38;5;28;01mfor\u001b[39;00m layer \u001b[38;5;129;01min\u001b[39;00m model\u001b[38;5;241m.\u001b[39mlayers:\n\u001b[0;32m---> 54\u001b[0m     Y, inc_layer_grad \u001b[38;5;241m=\u001b[39m layer(X, is_train\u001b[38;5;241m=\u001b[39mis_train)\n\u001b[1;32m     55\u001b[0m     callbacks\u001b[38;5;241m.\u001b[39mappend(inc_layer_grad)\n\u001b[1;32m     56\u001b[0m     X \u001b[38;5;241m=\u001b[39m Y\n",
      "    \u001b[0;31m[... skipping similar frames: Model.__call__ at line 310 (1 times)]\u001b[0m\n",
      "File \u001b[0;32m~/anaconda3/lib/python3.11/site-packages/thinc/layers/chain.py:54\u001b[0m, in \u001b[0;36mforward\u001b[0;34m(model, X, is_train)\u001b[0m\n\u001b[1;32m     52\u001b[0m callbacks \u001b[38;5;241m=\u001b[39m []\n\u001b[1;32m     53\u001b[0m \u001b[38;5;28;01mfor\u001b[39;00m layer \u001b[38;5;129;01min\u001b[39;00m model\u001b[38;5;241m.\u001b[39mlayers:\n\u001b[0;32m---> 54\u001b[0m     Y, inc_layer_grad \u001b[38;5;241m=\u001b[39m layer(X, is_train\u001b[38;5;241m=\u001b[39mis_train)\n\u001b[1;32m     55\u001b[0m     callbacks\u001b[38;5;241m.\u001b[39mappend(inc_layer_grad)\n\u001b[1;32m     56\u001b[0m     X \u001b[38;5;241m=\u001b[39m Y\n",
      "File \u001b[0;32m~/anaconda3/lib/python3.11/site-packages/thinc/model.py:310\u001b[0m, in \u001b[0;36mModel.__call__\u001b[0;34m(self, X, is_train)\u001b[0m\n\u001b[1;32m    307\u001b[0m \u001b[38;5;28;01mdef\u001b[39;00m \u001b[38;5;21m__call__\u001b[39m(\u001b[38;5;28mself\u001b[39m, X: InT, is_train: \u001b[38;5;28mbool\u001b[39m) \u001b[38;5;241m-\u001b[39m\u001b[38;5;241m>\u001b[39m Tuple[OutT, Callable]:\n\u001b[1;32m    308\u001b[0m \u001b[38;5;250m    \u001b[39m\u001b[38;5;124;03m\"\"\"Call the model's `forward` function, returning the output and a\u001b[39;00m\n\u001b[1;32m    309\u001b[0m \u001b[38;5;124;03m    callback to compute the gradients via backpropagation.\"\"\"\u001b[39;00m\n\u001b[0;32m--> 310\u001b[0m     \u001b[38;5;28;01mreturn\u001b[39;00m \u001b[38;5;28mself\u001b[39m\u001b[38;5;241m.\u001b[39m_func(\u001b[38;5;28mself\u001b[39m, X, is_train\u001b[38;5;241m=\u001b[39mis_train)\n",
      "File \u001b[0;32m~/anaconda3/lib/python3.11/site-packages/thinc/layers/maxout.py:52\u001b[0m, in \u001b[0;36mforward\u001b[0;34m(model, X, is_train)\u001b[0m\n\u001b[1;32m     50\u001b[0m W \u001b[38;5;241m=\u001b[39m model\u001b[38;5;241m.\u001b[39mget_param(\u001b[38;5;124m\"\u001b[39m\u001b[38;5;124mW\u001b[39m\u001b[38;5;124m\"\u001b[39m)\n\u001b[1;32m     51\u001b[0m W \u001b[38;5;241m=\u001b[39m model\u001b[38;5;241m.\u001b[39mops\u001b[38;5;241m.\u001b[39mreshape2f(W, nO \u001b[38;5;241m*\u001b[39m nP, nI)\n\u001b[0;32m---> 52\u001b[0m Y \u001b[38;5;241m=\u001b[39m model\u001b[38;5;241m.\u001b[39mops\u001b[38;5;241m.\u001b[39mgemm(X, W, trans2\u001b[38;5;241m=\u001b[39m\u001b[38;5;28;01mTrue\u001b[39;00m)\n\u001b[1;32m     53\u001b[0m Y \u001b[38;5;241m+\u001b[39m\u001b[38;5;241m=\u001b[39m model\u001b[38;5;241m.\u001b[39mops\u001b[38;5;241m.\u001b[39mreshape1f(b, nO \u001b[38;5;241m*\u001b[39m nP)\n\u001b[1;32m     54\u001b[0m Z \u001b[38;5;241m=\u001b[39m model\u001b[38;5;241m.\u001b[39mops\u001b[38;5;241m.\u001b[39mreshape3f(Y, Y\u001b[38;5;241m.\u001b[39mshape[\u001b[38;5;241m0\u001b[39m], nO, nP)\n",
      "\u001b[0;31mKeyboardInterrupt\u001b[0m: "
     ]
    }
   ],
   "source": [
    "cleaner.clean(text)"
   ]
  },
  {
   "cell_type": "code",
   "execution_count": null,
   "id": "af7fc5e4",
   "metadata": {},
   "outputs": [],
   "source": []
  }
 ],
 "metadata": {
  "kernelspec": {
   "display_name": "Python 3 (ipykernel)",
   "language": "python",
   "name": "python3"
  },
  "language_info": {
   "codemirror_mode": {
    "name": "ipython",
    "version": 3
   },
   "file_extension": ".py",
   "mimetype": "text/x-python",
   "name": "python",
   "nbconvert_exporter": "python",
   "pygments_lexer": "ipython3",
   "version": "3.11.0"
  }
 },
 "nbformat": 4,
 "nbformat_minor": 5
}